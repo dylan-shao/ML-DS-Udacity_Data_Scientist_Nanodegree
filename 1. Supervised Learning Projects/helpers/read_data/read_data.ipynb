{
 "cells": [
  {
   "cell_type": "code",
   "execution_count": 3,
   "metadata": {},
   "outputs": [
    {
     "name": "stdout",
     "output_type": "stream",
     "text": [
      "(100, 7)\n",
      ".iloc[:,0:6] (100, 6) <class 'pandas.core.frame.DataFrame'>\n",
      ".iloc[:,-1:] (100, 1) <class 'pandas.core.frame.DataFrame'>\n",
      ".iloc[:,-1] (100,) <class 'pandas.core.series.Series'>\n"
     ]
    }
   ],
   "source": [
    "from pandas import read_csv\n",
    "train_data = read_csv('../data/dataNoLabel.csv',header=None)\n",
    "X = train_data.iloc[:,0:6]\n",
    "y1 = train_data.iloc[:,-1:]\n",
    "y2 = train_data.iloc[:,-1]\n",
    "\n",
    "print(train_data.shape)\n",
    "print('.iloc[:,0:6]', X.shape, type(X))\n",
    "print('.iloc[:,-1:]', y1.shape, type(y1))\n",
    "print('.iloc[:,-1]',y2.shape, type(y2))"
   ]
  },
  {
   "cell_type": "code",
   "execution_count": null,
   "metadata": {},
   "outputs": [],
   "source": []
  }
 ],
 "metadata": {
  "kernelspec": {
   "display_name": "Python 3",
   "language": "python",
   "name": "python3"
  },
  "language_info": {
   "codemirror_mode": {
    "name": "ipython",
    "version": 3
   },
   "file_extension": ".py",
   "mimetype": "text/x-python",
   "name": "python",
   "nbconvert_exporter": "python",
   "pygments_lexer": "ipython3",
   "version": "3.6.5"
  }
 },
 "nbformat": 4,
 "nbformat_minor": 2
}
