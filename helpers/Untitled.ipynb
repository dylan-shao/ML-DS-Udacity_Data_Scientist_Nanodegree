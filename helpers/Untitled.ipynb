{
 "cells": [
  {
   "cell_type": "markdown",
   "metadata": {},
   "source": [
    "#### Based on the **Mini-batch gradient descent algorithm** belowe  \n",
    "\n",
    "repeat i = 1 : num_iter\n",
    "\n",
    "$$\n",
    "\\theta_j := \\theta_j - \\alpha*\\frac{1}{b}\\sum\\limits_{k=i}^{i+b-1} (h_\\theta(x^{(k)}) - y^{(k)})*x_j^{(k)} \\\\\n",
    "for\\ every\\ j\\ = \\ 0,...n\n",
    "$$\n",
    "\n",
    "where\n",
    "\n",
    "\\begin{align}\n",
    "\\alpha & =  leaerning\\ rate \\\\\n",
    "b & = batch\\ size \\\\\n",
    "h_\\theta & = hypothesis\\ function \\\\\n",
    "x_j^{(k)} & = value\\ of\\ feature\\ j\\ in\\ the\\ i^{th}\\ training\\ example\n",
    "\\end{align}\n",
    "\n",
    "In our one variable scenario below, the above j will be 1, so $b = \\theta_0$ and $W = \\theta_1$"
   ]
  },
  {
   "cell_type": "code",
   "execution_count": null,
   "metadata": {},
   "outputs": [],
   "source": []
  }
 ],
 "metadata": {
  "kernelspec": {
   "display_name": "Python 3",
   "language": "python",
   "name": "python3"
  },
  "language_info": {
   "codemirror_mode": {
    "name": "ipython",
    "version": 3
   },
   "file_extension": ".py",
   "mimetype": "text/x-python",
   "name": "python",
   "nbconvert_exporter": "python",
   "pygments_lexer": "ipython3",
   "version": "3.6.5"
  }
 },
 "nbformat": 4,
 "nbformat_minor": 2
}
