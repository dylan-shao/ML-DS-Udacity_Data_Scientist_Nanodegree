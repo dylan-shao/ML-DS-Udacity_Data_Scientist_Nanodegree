{
 "cells": [
  {
   "cell_type": "markdown",
   "metadata": {},
   "source": [
    "Regularization Exercise\n",
    "Perhaps it's not too surprising at this point, but there are classes in sklearn that will help you perform regularization with your linear regression. You'll get practice with implementing that in this exercise. In this assignment's data.csv, you'll find data for a bunch of points including six predictor variables and one outcome variable. Use sklearn's Lasso class to fit a linear regression model to the data, while also using L1 regularization to control for model complexity.\n",
    "\n",
    "Perform the following steps below:\n",
    "1. Load in the data\n",
    "\n",
    "The data is in the file called 'data.csv'.\n",
    "Split the data so that the six predictor features (first six columns) are stored in X, and the outcome feature (last column) is stored in y.\n",
    "2. Fit data using linear regression with Lasso regularization\n",
    "\n",
    "Create an instance of sklearn's Lasso class and assign it to the variable lasso_reg. You don't need to set any parameter values: use the default values for the quiz.\n",
    "Use the Lasso object's .fit() method to fit the regression model onto the data.\n",
    "3. Inspect the coefficients of the regression model\n",
    "\n",
    "Obtain the coefficients of the fit regression model using the .coef_ attribute of the Lasso object. Store this in the reg_coef variable: the coefficients will be printed out, and you will use your observations to answer the question at the bottom of the page."
   ]
  },
  {
   "cell_type": "code",
   "execution_count": 52,
   "metadata": {},
   "outputs": [
    {
     "name": "stdout",
     "output_type": "stream",
     "text": [
      "[ 0.          2.35793224  2.00441646 -0.05511954 -3.92808318  0.        ]\n",
      "mse: 3.6640336296100657\n"
     ]
    }
   ],
   "source": [
    "from sklearn.linear_model import Lasso\n",
    "from pandas import read_csv\n",
    "from sklearn.metrics import mean_squared_error\n",
    "\n",
    "#-------- read data ---------\n",
    "train_data = read_csv('data.csv',header=None)\n",
    "X = train_data.iloc[:,0:6]\n",
    "y = train_data.iloc[:,-1]\n",
    "#-----------------------------\n",
    "\n",
    "#-------- fit model & predict---\n",
    "lasso_reg = Lasso()\n",
    "lasso_reg.fit(X, y)\n",
    "y_pred1 = lasso_reg.predict(X)\n",
    "#-----------------------------\n",
    "\n",
    "\n",
    "print(lasso_reg.coef_)\n",
    "print('mse:', mean_squared_error(y,y_pred1))"
   ]
  },
  {
   "cell_type": "code",
   "execution_count": 51,
   "metadata": {},
   "outputs": [
    {
     "name": "stdout",
     "output_type": "stream",
     "text": [
      "[-6.19918532e-03  2.96325160e+00  1.98199191e+00 -7.86249920e-02\n",
      " -3.95818772e+00  9.30786141e+00]\n",
      "mse: 0.7266638169938208\n"
     ]
    }
   ],
   "source": [
    "# fit in the regular model\n",
    "from sklearn.linear_model import LinearRegression\n",
    "\n",
    "#-------- fit model & predict---\n",
    "model = LinearRegression()\n",
    "model.fit(X, y)\n",
    "y_pred2 = model.predict(X)\n",
    "#-----------------------------\n",
    "\n",
    "print(model.coef_)\n",
    "print('mse:', mean_squared_error( y,y_pred2))"
   ]
  },
  {
   "cell_type": "code",
   "execution_count": null,
   "metadata": {},
   "outputs": [],
   "source": []
  }
 ],
 "metadata": {
  "kernelspec": {
   "display_name": "Python 3",
   "language": "python",
   "name": "python3"
  },
  "language_info": {
   "codemirror_mode": {
    "name": "ipython",
    "version": 3
   },
   "file_extension": ".py",
   "mimetype": "text/x-python",
   "name": "python",
   "nbconvert_exporter": "python",
   "pygments_lexer": "ipython3",
   "version": "3.6.5"
  }
 },
 "nbformat": 4,
 "nbformat_minor": 2
}
