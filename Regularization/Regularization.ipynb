{
 "cells": [
  {
   "cell_type": "code",
   "execution_count": 42,
   "metadata": {},
   "outputs": [
    {
     "name": "stdout",
     "output_type": "stream",
     "text": [
      "[ 0.          2.35793224  2.00441646 -0.05511954 -3.92808318  0.        ]\n",
      "mse: 3.6640336296100657\n"
     ]
    }
   ],
   "source": [
    "from sklearn.linear_model import Lasso\n",
    "from pandas import read_csv\n",
    "from sklearn.metrics import mean_squared_error\n",
    "\n",
    "#-------- read data ---------\n",
    "train_data = read_csv('data.csv',header=None)\n",
    "X = train_data.iloc[:,0:6]\n",
    "y = train_data.iloc[:,-1]\n",
    "#-----------------------------\n",
    "\n",
    "#-------- fit model & predict---\n",
    "lasso_reg = Lasso()\n",
    "lasso_reg.fit(X, y)\n",
    "y_pred1 = lasso_reg.predict(X)\n",
    "#-----------------------------\n",
    "\n",
    "\n",
    "print(lasso_reg.coef_)\n",
    "print('mse:', mean_squared_error(y,y_pred1))"
   ]
  },
  {
   "cell_type": "code",
   "execution_count": 43,
   "metadata": {},
   "outputs": [
    {
     "name": "stdout",
     "output_type": "stream",
     "text": [
      "[-6.19918532e-03  2.96325160e+00  1.98199191e+00 -7.86249920e-02\n",
      " -3.95818772e+00  9.30786141e+00]\n",
      "mse: 0.7266638169938208\n"
     ]
    }
   ],
   "source": [
    "# fit in the regular model\n",
    "from sklearn.linear_model import LinearRegression\n",
    "\n",
    "#-------- fit model & predict---\n",
    "model = LinearRegression()\n",
    "model.fit(X, y)\n",
    "y_pred2 = model.predict(X)\n",
    "#-----------------------------\n",
    "\n",
    "print(model.coef_)\n",
    "print('mse:', mean_squared_error( y,y_pred2))"
   ]
  },
  {
   "cell_type": "code",
   "execution_count": null,
   "metadata": {},
   "outputs": [],
   "source": []
  }
 ],
 "metadata": {
  "kernelspec": {
   "display_name": "Python 3",
   "language": "python",
   "name": "python3"
  },
  "language_info": {
   "codemirror_mode": {
    "name": "ipython",
    "version": 3
   },
   "file_extension": ".py",
   "mimetype": "text/x-python",
   "name": "python",
   "nbconvert_exporter": "python",
   "pygments_lexer": "ipython3",
   "version": "3.6.5"
  }
 },
 "nbformat": 4,
 "nbformat_minor": 2
}
