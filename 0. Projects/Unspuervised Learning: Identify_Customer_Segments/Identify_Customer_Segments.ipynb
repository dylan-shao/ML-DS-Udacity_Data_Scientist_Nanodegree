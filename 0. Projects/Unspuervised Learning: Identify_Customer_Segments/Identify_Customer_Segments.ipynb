{
 "cells": [
  {
   "cell_type": "markdown",
   "metadata": {},
   "source": [
    "# Project: Identify Customer Segments\n",
    "\n",
    "In this project, you will apply unsupervised learning techniques to identify segments of the population that form the core customer base for a mail-order sales company in Germany. These segments can then be used to direct marketing campaigns towards audiences that will have the highest expected rate of returns. The data that you will use has been provided by our partners at Bertelsmann Arvato Analytics, and represents a real-life data science task.\n",
    "\n",
    "This notebook will help you complete this task by providing a framework within which you will perform your analysis steps. In each step of the project, you will see some text describing the subtask that you will perform, followed by one or more code cells for you to complete your work. **Feel free to add additional code and markdown cells as you go along so that you can explore everything in precise chunks.** The code cells provided in the base template will outline only the major tasks, and will usually not be enough to cover all of the minor tasks that comprise it.\n",
    "\n",
    "It should be noted that while there will be precise guidelines on how you should handle certain tasks in the project, there will also be places where an exact specification is not provided. **There will be times in the project where you will need to make and justify your own decisions on how to treat the data.** These are places where there may not be only one way to handle the data. In real-life tasks, there may be many valid ways to approach an analysis task. One of the most important things you can do is clearly document your approach so that other scientists can understand the decisions you've made.\n",
    "\n",
    "At the end of most sections, there will be a Markdown cell labeled **Discussion**. In these cells, you will report your findings for the completed section, as well as document the decisions that you made in your approach to each subtask. **Your project will be evaluated not just on the code used to complete the tasks outlined, but also your communication about your observations and conclusions at each stage.**"
   ]
  },
  {
   "cell_type": "code",
   "execution_count": 258,
   "metadata": {},
   "outputs": [],
   "source": [
    "# import libraries here; add more as necessary\n",
    "import numpy as np\n",
    "import pandas as pd\n",
    "import matplotlib.pyplot as plt\n",
    "import seaborn as sns\n",
    "from sklearn.impute import SimpleImputer\n",
    "from sklearn import preprocessing as p\n",
    "from sklearn.decomposition import PCA\n",
    "\n",
    "# magic word for producing visualizations in notebook\n",
    "%matplotlib inline"
   ]
  },
  {
   "cell_type": "markdown",
   "metadata": {},
   "source": [
    "### Step 0: Load the Data\n",
    "\n",
    "There are four files associated with this project (not including this one):\n",
    "\n",
    "- `Udacity_AZDIAS_Subset.csv`: Demographics data for the general population of Germany; 891211 persons (rows) x 85 features (columns).\n",
    "- `Udacity_CUSTOMERS_Subset.csv`: Demographics data for customers of a mail-order company; 191652 persons (rows) x 85 features (columns).\n",
    "- `Data_Dictionary.md`: Detailed information file about the features in the provided datasets.\n",
    "- `AZDIAS_Feature_Summary.csv`: Summary of feature attributes for demographics data; 85 features (rows) x 4 columns\n",
    "\n",
    "Each row of the demographics files represents a single person, but also includes information outside of individuals, including information about their household, building, and neighborhood. You will use this information to cluster the general population into groups with similar demographic properties. Then, you will see how the people in the customers dataset fit into those created clusters. The hope here is that certain clusters are over-represented in the customers data, as compared to the general population; those over-represented clusters will be assumed to be part of the core userbase. This information can then be used for further applications, such as targeting for a marketing campaign.\n",
    "\n",
    "To start off with, load in the demographics data for the general population into a pandas DataFrame, and do the same for the feature attributes summary. Note for all of the `.csv` data files in this project: they're semicolon (`;`) delimited, so you'll need an additional argument in your [`read_csv()`](https://pandas.pydata.org/pandas-docs/stable/generated/pandas.read_csv.html) call to read in the data properly. Also, considering the size of the main dataset, it may take some time for it to load completely.\n",
    "\n",
    "Once the dataset is loaded, it's recommended that you take a little bit of time just browsing the general structure of the dataset and feature summary file. You'll be getting deep into the innards of the cleaning in the first major step of the project, so gaining some general familiarity can help you get your bearings."
   ]
  },
  {
   "cell_type": "code",
   "execution_count": 73,
   "metadata": {},
   "outputs": [],
   "source": [
    "# those data is ignored on git as this is confiditial\n",
    "\n",
    "# Load in the general demographics data.\n",
    "azdias = pd.read_csv('Udacity_AZDIAS_Subset.csv', delimiter=';')\n",
    "\n",
    "# Load in the feature summary file.\n",
    "feat_info = pd.read_csv('AZDIAS_Feature_Summary.csv', delimiter=';')"
   ]
  },
  {
   "cell_type": "code",
   "execution_count": 74,
   "metadata": {},
   "outputs": [],
   "source": [
    "# Check the structure of the data after it's loaded (e.g. print the number of\n",
    "# rows and columns, print the first few rows).\n",
    "\n",
    "# azdias.describe()"
   ]
  },
  {
   "cell_type": "code",
   "execution_count": 75,
   "metadata": {},
   "outputs": [
    {
     "name": "stdout",
     "output_type": "stream",
     "text": [
      "<class 'pandas.core.frame.DataFrame'>\n",
      "RangeIndex: 891221 entries, 0 to 891220\n",
      "Data columns (total 85 columns):\n",
      "AGER_TYP                 891221 non-null int64\n",
      "ALTERSKATEGORIE_GROB     891221 non-null int64\n",
      "ANREDE_KZ                891221 non-null int64\n",
      "CJT_GESAMTTYP            886367 non-null float64\n",
      "FINANZ_MINIMALIST        891221 non-null int64\n",
      "FINANZ_SPARER            891221 non-null int64\n",
      "FINANZ_VORSORGER         891221 non-null int64\n",
      "FINANZ_ANLEGER           891221 non-null int64\n",
      "FINANZ_UNAUFFAELLIGER    891221 non-null int64\n",
      "FINANZ_HAUSBAUER         891221 non-null int64\n",
      "FINANZTYP                891221 non-null int64\n",
      "GEBURTSJAHR              891221 non-null int64\n",
      "GFK_URLAUBERTYP          886367 non-null float64\n",
      "GREEN_AVANTGARDE         891221 non-null int64\n",
      "HEALTH_TYP               891221 non-null int64\n",
      "LP_LEBENSPHASE_FEIN      886367 non-null float64\n",
      "LP_LEBENSPHASE_GROB      886367 non-null float64\n",
      "LP_FAMILIE_FEIN          886367 non-null float64\n",
      "LP_FAMILIE_GROB          886367 non-null float64\n",
      "LP_STATUS_FEIN           886367 non-null float64\n",
      "LP_STATUS_GROB           886367 non-null float64\n",
      "NATIONALITAET_KZ         891221 non-null int64\n",
      "PRAEGENDE_JUGENDJAHRE    891221 non-null int64\n",
      "RETOURTYP_BK_S           886367 non-null float64\n",
      "SEMIO_SOZ                891221 non-null int64\n",
      "SEMIO_FAM                891221 non-null int64\n",
      "SEMIO_REL                891221 non-null int64\n",
      "SEMIO_MAT                891221 non-null int64\n",
      "SEMIO_VERT               891221 non-null int64\n",
      "SEMIO_LUST               891221 non-null int64\n",
      "SEMIO_ERL                891221 non-null int64\n",
      "SEMIO_KULT               891221 non-null int64\n",
      "SEMIO_RAT                891221 non-null int64\n",
      "SEMIO_KRIT               891221 non-null int64\n",
      "SEMIO_DOM                891221 non-null int64\n",
      "SEMIO_KAEM               891221 non-null int64\n",
      "SEMIO_PFLICHT            891221 non-null int64\n",
      "SEMIO_TRADV              891221 non-null int64\n",
      "SHOPPER_TYP              891221 non-null int64\n",
      "SOHO_KZ                  817722 non-null float64\n",
      "TITEL_KZ                 817722 non-null float64\n",
      "VERS_TYP                 891221 non-null int64\n",
      "ZABEOTYP                 891221 non-null int64\n",
      "ALTER_HH                 817722 non-null float64\n",
      "ANZ_PERSONEN             817722 non-null float64\n",
      "ANZ_TITEL                817722 non-null float64\n",
      "HH_EINKOMMEN_SCORE       872873 non-null float64\n",
      "KK_KUNDENTYP             306609 non-null float64\n",
      "W_KEIT_KIND_HH           783619 non-null float64\n",
      "WOHNDAUER_2008           817722 non-null float64\n",
      "ANZ_HAUSHALTE_AKTIV      798073 non-null float64\n",
      "ANZ_HH_TITEL             794213 non-null float64\n",
      "GEBAEUDETYP              798073 non-null float64\n",
      "KONSUMNAEHE              817252 non-null float64\n",
      "MIN_GEBAEUDEJAHR         798073 non-null float64\n",
      "OST_WEST_KZ              798073 non-null object\n",
      "WOHNLAGE                 798073 non-null float64\n",
      "CAMEO_DEUG_2015          792242 non-null object\n",
      "CAMEO_DEU_2015           792242 non-null object\n",
      "CAMEO_INTL_2015          792242 non-null object\n",
      "KBA05_ANTG1              757897 non-null float64\n",
      "KBA05_ANTG2              757897 non-null float64\n",
      "KBA05_ANTG3              757897 non-null float64\n",
      "KBA05_ANTG4              757897 non-null float64\n",
      "KBA05_BAUMAX             757897 non-null float64\n",
      "KBA05_GBZ                757897 non-null float64\n",
      "BALLRAUM                 797481 non-null float64\n",
      "EWDICHTE                 797481 non-null float64\n",
      "INNENSTADT               797481 non-null float64\n",
      "GEBAEUDETYP_RASTER       798066 non-null float64\n",
      "KKK                      770025 non-null float64\n",
      "MOBI_REGIO               757897 non-null float64\n",
      "ONLINE_AFFINITAET        886367 non-null float64\n",
      "REGIOTYP                 770025 non-null float64\n",
      "KBA13_ANZAHL_PKW         785421 non-null float64\n",
      "PLZ8_ANTG1               774706 non-null float64\n",
      "PLZ8_ANTG2               774706 non-null float64\n",
      "PLZ8_ANTG3               774706 non-null float64\n",
      "PLZ8_ANTG4               774706 non-null float64\n",
      "PLZ8_BAUMAX              774706 non-null float64\n",
      "PLZ8_HHZ                 774706 non-null float64\n",
      "PLZ8_GBZ                 774706 non-null float64\n",
      "ARBEIT                   794005 non-null float64\n",
      "ORTSGR_KLS9              794005 non-null float64\n",
      "RELAT_AB                 794005 non-null float64\n",
      "dtypes: float64(49), int64(32), object(4)\n",
      "memory usage: 578.0+ MB\n"
     ]
    }
   ],
   "source": [
    "azdias.info()"
   ]
  },
  {
   "cell_type": "code",
   "execution_count": 55,
   "metadata": {},
   "outputs": [
    {
     "data": {
      "text/html": [
       "<div>\n",
       "<style scoped>\n",
       "    .dataframe tbody tr th:only-of-type {\n",
       "        vertical-align: middle;\n",
       "    }\n",
       "\n",
       "    .dataframe tbody tr th {\n",
       "        vertical-align: top;\n",
       "    }\n",
       "\n",
       "    .dataframe thead th {\n",
       "        text-align: right;\n",
       "    }\n",
       "</style>\n",
       "<table border=\"1\" class=\"dataframe\">\n",
       "  <thead>\n",
       "    <tr style=\"text-align: right;\">\n",
       "      <th></th>\n",
       "      <th>AGER_TYP</th>\n",
       "      <th>ALTERSKATEGORIE_GROB</th>\n",
       "      <th>ANREDE_KZ</th>\n",
       "      <th>CJT_GESAMTTYP</th>\n",
       "      <th>FINANZ_MINIMALIST</th>\n",
       "      <th>FINANZ_SPARER</th>\n",
       "      <th>FINANZ_VORSORGER</th>\n",
       "      <th>FINANZ_ANLEGER</th>\n",
       "      <th>FINANZ_UNAUFFAELLIGER</th>\n",
       "      <th>FINANZ_HAUSBAUER</th>\n",
       "      <th>...</th>\n",
       "      <th>PLZ8_ANTG1</th>\n",
       "      <th>PLZ8_ANTG2</th>\n",
       "      <th>PLZ8_ANTG3</th>\n",
       "      <th>PLZ8_ANTG4</th>\n",
       "      <th>PLZ8_BAUMAX</th>\n",
       "      <th>PLZ8_HHZ</th>\n",
       "      <th>PLZ8_GBZ</th>\n",
       "      <th>ARBEIT</th>\n",
       "      <th>ORTSGR_KLS9</th>\n",
       "      <th>RELAT_AB</th>\n",
       "    </tr>\n",
       "  </thead>\n",
       "  <tbody>\n",
       "    <tr>\n",
       "      <th>0</th>\n",
       "      <td>-1</td>\n",
       "      <td>2</td>\n",
       "      <td>1</td>\n",
       "      <td>2.0</td>\n",
       "      <td>3</td>\n",
       "      <td>4</td>\n",
       "      <td>3</td>\n",
       "      <td>5</td>\n",
       "      <td>5</td>\n",
       "      <td>3</td>\n",
       "      <td>...</td>\n",
       "      <td>NaN</td>\n",
       "      <td>NaN</td>\n",
       "      <td>NaN</td>\n",
       "      <td>NaN</td>\n",
       "      <td>NaN</td>\n",
       "      <td>NaN</td>\n",
       "      <td>NaN</td>\n",
       "      <td>NaN</td>\n",
       "      <td>NaN</td>\n",
       "      <td>NaN</td>\n",
       "    </tr>\n",
       "    <tr>\n",
       "      <th>1</th>\n",
       "      <td>-1</td>\n",
       "      <td>1</td>\n",
       "      <td>2</td>\n",
       "      <td>5.0</td>\n",
       "      <td>1</td>\n",
       "      <td>5</td>\n",
       "      <td>2</td>\n",
       "      <td>5</td>\n",
       "      <td>4</td>\n",
       "      <td>5</td>\n",
       "      <td>...</td>\n",
       "      <td>2.0</td>\n",
       "      <td>3.0</td>\n",
       "      <td>2.0</td>\n",
       "      <td>1.0</td>\n",
       "      <td>1.0</td>\n",
       "      <td>5.0</td>\n",
       "      <td>4.0</td>\n",
       "      <td>3.0</td>\n",
       "      <td>5.0</td>\n",
       "      <td>4.0</td>\n",
       "    </tr>\n",
       "    <tr>\n",
       "      <th>2</th>\n",
       "      <td>-1</td>\n",
       "      <td>3</td>\n",
       "      <td>2</td>\n",
       "      <td>3.0</td>\n",
       "      <td>1</td>\n",
       "      <td>4</td>\n",
       "      <td>1</td>\n",
       "      <td>2</td>\n",
       "      <td>3</td>\n",
       "      <td>5</td>\n",
       "      <td>...</td>\n",
       "      <td>3.0</td>\n",
       "      <td>3.0</td>\n",
       "      <td>1.0</td>\n",
       "      <td>0.0</td>\n",
       "      <td>1.0</td>\n",
       "      <td>4.0</td>\n",
       "      <td>4.0</td>\n",
       "      <td>3.0</td>\n",
       "      <td>5.0</td>\n",
       "      <td>2.0</td>\n",
       "    </tr>\n",
       "    <tr>\n",
       "      <th>3</th>\n",
       "      <td>2</td>\n",
       "      <td>4</td>\n",
       "      <td>2</td>\n",
       "      <td>2.0</td>\n",
       "      <td>4</td>\n",
       "      <td>2</td>\n",
       "      <td>5</td>\n",
       "      <td>2</td>\n",
       "      <td>1</td>\n",
       "      <td>2</td>\n",
       "      <td>...</td>\n",
       "      <td>2.0</td>\n",
       "      <td>2.0</td>\n",
       "      <td>2.0</td>\n",
       "      <td>0.0</td>\n",
       "      <td>1.0</td>\n",
       "      <td>3.0</td>\n",
       "      <td>4.0</td>\n",
       "      <td>2.0</td>\n",
       "      <td>3.0</td>\n",
       "      <td>3.0</td>\n",
       "    </tr>\n",
       "    <tr>\n",
       "      <th>4</th>\n",
       "      <td>-1</td>\n",
       "      <td>3</td>\n",
       "      <td>1</td>\n",
       "      <td>5.0</td>\n",
       "      <td>4</td>\n",
       "      <td>3</td>\n",
       "      <td>4</td>\n",
       "      <td>1</td>\n",
       "      <td>3</td>\n",
       "      <td>2</td>\n",
       "      <td>...</td>\n",
       "      <td>2.0</td>\n",
       "      <td>4.0</td>\n",
       "      <td>2.0</td>\n",
       "      <td>1.0</td>\n",
       "      <td>2.0</td>\n",
       "      <td>3.0</td>\n",
       "      <td>3.0</td>\n",
       "      <td>4.0</td>\n",
       "      <td>6.0</td>\n",
       "      <td>5.0</td>\n",
       "    </tr>\n",
       "  </tbody>\n",
       "</table>\n",
       "<p>5 rows × 85 columns</p>\n",
       "</div>"
      ],
      "text/plain": [
       "   AGER_TYP  ALTERSKATEGORIE_GROB  ANREDE_KZ  CJT_GESAMTTYP  \\\n",
       "0        -1                     2          1            2.0   \n",
       "1        -1                     1          2            5.0   \n",
       "2        -1                     3          2            3.0   \n",
       "3         2                     4          2            2.0   \n",
       "4        -1                     3          1            5.0   \n",
       "\n",
       "   FINANZ_MINIMALIST  FINANZ_SPARER  FINANZ_VORSORGER  FINANZ_ANLEGER  \\\n",
       "0                  3              4                 3               5   \n",
       "1                  1              5                 2               5   \n",
       "2                  1              4                 1               2   \n",
       "3                  4              2                 5               2   \n",
       "4                  4              3                 4               1   \n",
       "\n",
       "   FINANZ_UNAUFFAELLIGER  FINANZ_HAUSBAUER    ...     PLZ8_ANTG1  PLZ8_ANTG2  \\\n",
       "0                      5                 3    ...            NaN         NaN   \n",
       "1                      4                 5    ...            2.0         3.0   \n",
       "2                      3                 5    ...            3.0         3.0   \n",
       "3                      1                 2    ...            2.0         2.0   \n",
       "4                      3                 2    ...            2.0         4.0   \n",
       "\n",
       "   PLZ8_ANTG3  PLZ8_ANTG4  PLZ8_BAUMAX  PLZ8_HHZ  PLZ8_GBZ  ARBEIT  \\\n",
       "0         NaN         NaN          NaN       NaN       NaN     NaN   \n",
       "1         2.0         1.0          1.0       5.0       4.0     3.0   \n",
       "2         1.0         0.0          1.0       4.0       4.0     3.0   \n",
       "3         2.0         0.0          1.0       3.0       4.0     2.0   \n",
       "4         2.0         1.0          2.0       3.0       3.0     4.0   \n",
       "\n",
       "   ORTSGR_KLS9  RELAT_AB  \n",
       "0          NaN       NaN  \n",
       "1          5.0       4.0  \n",
       "2          5.0       2.0  \n",
       "3          3.0       3.0  \n",
       "4          6.0       5.0  \n",
       "\n",
       "[5 rows x 85 columns]"
      ]
     },
     "execution_count": 55,
     "metadata": {},
     "output_type": "execute_result"
    }
   ],
   "source": [
    "azdias.head()"
   ]
  },
  {
   "cell_type": "code",
   "execution_count": 13,
   "metadata": {},
   "outputs": [
    {
     "name": "stdout",
     "output_type": "stream",
     "text": [
      "<class 'pandas.core.frame.DataFrame'>\n",
      "RangeIndex: 85 entries, 0 to 84\n",
      "Data columns (total 4 columns):\n",
      "attribute             85 non-null object\n",
      "information_level     85 non-null object\n",
      "type                  85 non-null object\n",
      "missing_or_unknown    85 non-null object\n",
      "dtypes: object(4)\n",
      "memory usage: 2.7+ KB\n"
     ]
    }
   ],
   "source": [
    "feat_info.info()"
   ]
  },
  {
   "cell_type": "code",
   "execution_count": null,
   "metadata": {},
   "outputs": [],
   "source": []
  },
  {
   "cell_type": "code",
   "execution_count": 71,
   "metadata": {},
   "outputs": [
    {
     "data": {
      "text/html": [
       "<div>\n",
       "<style scoped>\n",
       "    .dataframe tbody tr th:only-of-type {\n",
       "        vertical-align: middle;\n",
       "    }\n",
       "\n",
       "    .dataframe tbody tr th {\n",
       "        vertical-align: top;\n",
       "    }\n",
       "\n",
       "    .dataframe thead th {\n",
       "        text-align: right;\n",
       "    }\n",
       "</style>\n",
       "<table border=\"1\" class=\"dataframe\">\n",
       "  <thead>\n",
       "    <tr style=\"text-align: right;\">\n",
       "      <th></th>\n",
       "      <th>attribute</th>\n",
       "      <th>information_level</th>\n",
       "      <th>type</th>\n",
       "      <th>missing_or_unknown</th>\n",
       "    </tr>\n",
       "  </thead>\n",
       "  <tbody>\n",
       "    <tr>\n",
       "      <th>0</th>\n",
       "      <td>AGER_TYP</td>\n",
       "      <td>person</td>\n",
       "      <td>categorical</td>\n",
       "      <td>[-1,0]</td>\n",
       "    </tr>\n",
       "    <tr>\n",
       "      <th>1</th>\n",
       "      <td>ALTERSKATEGORIE_GROB</td>\n",
       "      <td>person</td>\n",
       "      <td>ordinal</td>\n",
       "      <td>[-1,0,9]</td>\n",
       "    </tr>\n",
       "    <tr>\n",
       "      <th>2</th>\n",
       "      <td>ANREDE_KZ</td>\n",
       "      <td>person</td>\n",
       "      <td>categorical</td>\n",
       "      <td>[-1,0]</td>\n",
       "    </tr>\n",
       "    <tr>\n",
       "      <th>3</th>\n",
       "      <td>CJT_GESAMTTYP</td>\n",
       "      <td>person</td>\n",
       "      <td>categorical</td>\n",
       "      <td>[0]</td>\n",
       "    </tr>\n",
       "    <tr>\n",
       "      <th>4</th>\n",
       "      <td>FINANZ_MINIMALIST</td>\n",
       "      <td>person</td>\n",
       "      <td>ordinal</td>\n",
       "      <td>[-1]</td>\n",
       "    </tr>\n",
       "    <tr>\n",
       "      <th>5</th>\n",
       "      <td>FINANZ_SPARER</td>\n",
       "      <td>person</td>\n",
       "      <td>ordinal</td>\n",
       "      <td>[-1]</td>\n",
       "    </tr>\n",
       "    <tr>\n",
       "      <th>6</th>\n",
       "      <td>FINANZ_VORSORGER</td>\n",
       "      <td>person</td>\n",
       "      <td>ordinal</td>\n",
       "      <td>[-1]</td>\n",
       "    </tr>\n",
       "    <tr>\n",
       "      <th>7</th>\n",
       "      <td>FINANZ_ANLEGER</td>\n",
       "      <td>person</td>\n",
       "      <td>ordinal</td>\n",
       "      <td>[-1]</td>\n",
       "    </tr>\n",
       "  </tbody>\n",
       "</table>\n",
       "</div>"
      ],
      "text/plain": [
       "              attribute information_level         type missing_or_unknown\n",
       "0              AGER_TYP            person  categorical             [-1,0]\n",
       "1  ALTERSKATEGORIE_GROB            person      ordinal           [-1,0,9]\n",
       "2             ANREDE_KZ            person  categorical             [-1,0]\n",
       "3         CJT_GESAMTTYP            person  categorical                [0]\n",
       "4     FINANZ_MINIMALIST            person      ordinal               [-1]\n",
       "5         FINANZ_SPARER            person      ordinal               [-1]\n",
       "6      FINANZ_VORSORGER            person      ordinal               [-1]\n",
       "7        FINANZ_ANLEGER            person      ordinal               [-1]"
      ]
     },
     "execution_count": 71,
     "metadata": {},
     "output_type": "execute_result"
    }
   ],
   "source": [
    "feat_info.head(8)"
   ]
  },
  {
   "cell_type": "markdown",
   "metadata": {},
   "source": [
    "> **Tip**: Add additional cells to keep everything in reasonably-sized chunks! Keyboard shortcut `esc --> a` (press escape to enter command mode, then press the 'A' key) adds a new cell before the active cell, and `esc --> b` adds a new cell after the active cell. If you need to convert an active cell to a markdown cell, use `esc --> m` and to convert to a code cell, use `esc --> y`. \n",
    "\n",
    "## Step 1: Preprocessing\n",
    "\n",
    "### Step 1.1: Assess Missing Data\n",
    "\n",
    "The feature summary file contains a summary of properties for each demographics data column. You will use this file to help you make cleaning decisions during this stage of the project. First of all, you should assess the demographics data in terms of missing data. Pay attention to the following points as you perform your analysis, and take notes on what you observe. Make sure that you fill in the **Discussion** cell with your findings and decisions at the end of each step that has one!\n",
    "\n",
    "#### Step 1.1.1: Convert Missing Value Codes to NaNs\n",
    "The fourth column of the feature attributes summary (loaded in above as `feat_info`) documents the codes from the data dictionary that indicate missing or unknown data. While the file encodes this as a list (e.g. `[-1,0]`), this will get read in as a string object. You'll need to do a little bit of parsing to make use of it to identify and clean the data. Convert data that matches a 'missing' or 'unknown' value code into a numpy NaN value. You might want to see how much data takes on a 'missing' or 'unknown' code, and how much data is naturally missing, as a point of interest.\n",
    "\n",
    "**As one more reminder, you are encouraged to add additional cells to break up your analysis into manageable chunks.**"
   ]
  },
  {
   "cell_type": "code",
   "execution_count": 15,
   "metadata": {},
   "outputs": [],
   "source": [
    "# test\n",
    "# series = feat_info['attribute']\n",
    "# # print(series[series == 'HEALTH_TYP'].index[0])\n",
    "\n",
    "# # series[15]\n",
    "# missing_or_unknow_list = list(map(lambda x: int(x), feat_info['missing_or_unknown'][0][1:-1].split(',')))\n",
    "# missing_or_unknow_count = 0\n",
    "\n",
    "# azdias['AGER_TYP'] = azdias['AGER_TYP'].replace(missing_or_unknow_list, np.nan)\n",
    "# azdias['AGER_TYP'].isnull().sum() / len(azdias['AGER_TYP'])\n",
    "# for index, value in azdias['LP_LEBENSPHASE_FEIN'].iteritems():\n",
    "#     if value in list(map(lambda x: int(x), missing_or_unknow_list)):\n",
    "#             azdias_column[c_index] = np.nan\n",
    "#             missing_or_unknow_count += 1"
   ]
  },
  {
   "cell_type": "code",
   "execution_count": 16,
   "metadata": {},
   "outputs": [
    {
     "data": {
      "text/plain": [
       "float"
      ]
     },
     "execution_count": 16,
     "metadata": {},
     "output_type": "execute_result"
    }
   ],
   "source": [
    "type(np.NaN)"
   ]
  },
  {
   "cell_type": "code",
   "execution_count": 86,
   "metadata": {},
   "outputs": [
    {
     "name": "stdout",
     "output_type": "stream",
     "text": [
      "AGER_TYP\n",
      "[-1.0, 0.0]\n",
      "The percentage of missing value for AGER_TYP is 0.7695543529607134\n",
      "ALTERSKATEGORIE_GROB\n",
      "[-1.0, 0.0, 9.0]\n",
      "The percentage of missing value for ALTERSKATEGORIE_GROB is 0.0032326437550282143\n",
      "ANREDE_KZ\n",
      "[-1.0, 0.0]\n",
      "The percentage of missing value for ANREDE_KZ is 0.0\n",
      "CJT_GESAMTTYP\n",
      "[0.0]\n",
      "The percentage of missing value for CJT_GESAMTTYP is 0.005446460529992\n",
      "FINANZ_MINIMALIST\n",
      "[-1.0]\n",
      "The percentage of missing value for FINANZ_MINIMALIST is 0.0\n",
      "FINANZ_SPARER\n",
      "[-1.0]\n",
      "The percentage of missing value for FINANZ_SPARER is 0.0\n",
      "FINANZ_VORSORGER\n",
      "[-1.0]\n",
      "The percentage of missing value for FINANZ_VORSORGER is 0.0\n",
      "FINANZ_ANLEGER\n",
      "[-1.0]\n",
      "The percentage of missing value for FINANZ_ANLEGER is 0.0\n",
      "FINANZ_UNAUFFAELLIGER\n",
      "[-1.0]\n",
      "The percentage of missing value for FINANZ_UNAUFFAELLIGER is 0.0\n",
      "FINANZ_HAUSBAUER\n",
      "[-1.0]\n",
      "The percentage of missing value for FINANZ_HAUSBAUER is 0.0\n",
      "FINANZTYP\n",
      "[-1.0]\n",
      "The percentage of missing value for FINANZTYP is 0.0\n",
      "GEBURTSJAHR\n",
      "[0.0]\n",
      "The percentage of missing value for GEBURTSJAHR is 0.4402028228688507\n",
      "GFK_URLAUBERTYP\n",
      "['']\n",
      "The percentage of missing value for GFK_URLAUBERTYP is 0.005446460529992\n",
      "GREEN_AVANTGARDE\n",
      "['']\n",
      "The percentage of missing value for GREEN_AVANTGARDE is 0.0\n",
      "HEALTH_TYP\n",
      "[-1.0, 0.0]\n",
      "The percentage of missing value for HEALTH_TYP is 0.12476815514894735\n",
      "LP_LEBENSPHASE_FEIN\n",
      "[0.0]\n",
      "The percentage of missing value for LP_LEBENSPHASE_FEIN is 0.10954858559212585\n",
      "LP_LEBENSPHASE_GROB\n",
      "[0.0]\n",
      "The percentage of missing value for LP_LEBENSPHASE_GROB is 0.10611509378706292\n",
      "LP_FAMILIE_FEIN\n",
      "[0.0]\n",
      "The percentage of missing value for LP_FAMILIE_FEIN is 0.08728699166648901\n",
      "LP_FAMILIE_GROB\n",
      "[0.0]\n",
      "The percentage of missing value for LP_FAMILIE_GROB is 0.08728699166648901\n",
      "LP_STATUS_FEIN\n",
      "[0.0]\n",
      "The percentage of missing value for LP_STATUS_FEIN is 0.005446460529992\n",
      "LP_STATUS_GROB\n",
      "[0.0]\n",
      "The percentage of missing value for LP_STATUS_GROB is 0.005446460529992\n",
      "NATIONALITAET_KZ\n",
      "[-1.0, 0.0]\n",
      "The percentage of missing value for NATIONALITAET_KZ is 0.12153551139391913\n",
      "PRAEGENDE_JUGENDJAHRE\n",
      "[-1.0, 0.0]\n",
      "The percentage of missing value for PRAEGENDE_JUGENDJAHRE is 0.12136608091595687\n",
      "RETOURTYP_BK_S\n",
      "[0.0]\n",
      "The percentage of missing value for RETOURTYP_BK_S is 0.005446460529992\n",
      "SEMIO_SOZ\n",
      "[-1.0, 9.0]\n",
      "The percentage of missing value for SEMIO_SOZ is 0.0\n",
      "SEMIO_FAM\n",
      "[-1.0, 9.0]\n",
      "The percentage of missing value for SEMIO_FAM is 0.0\n",
      "SEMIO_REL\n",
      "[-1.0, 9.0]\n",
      "The percentage of missing value for SEMIO_REL is 0.0\n",
      "SEMIO_MAT\n",
      "[-1.0, 9.0]\n",
      "The percentage of missing value for SEMIO_MAT is 0.0\n",
      "SEMIO_VERT\n",
      "[-1.0, 9.0]\n",
      "The percentage of missing value for SEMIO_VERT is 0.0\n",
      "SEMIO_LUST\n",
      "[-1.0, 9.0]\n",
      "The percentage of missing value for SEMIO_LUST is 0.0\n",
      "SEMIO_ERL\n",
      "[-1.0, 9.0]\n",
      "The percentage of missing value for SEMIO_ERL is 0.0\n",
      "SEMIO_KULT\n",
      "[-1.0, 9.0]\n",
      "The percentage of missing value for SEMIO_KULT is 0.0\n",
      "SEMIO_RAT\n",
      "[-1.0, 9.0]\n",
      "The percentage of missing value for SEMIO_RAT is 0.0\n",
      "SEMIO_KRIT\n",
      "[-1.0, 9.0]\n",
      "The percentage of missing value for SEMIO_KRIT is 0.0\n",
      "SEMIO_DOM\n",
      "[-1.0, 9.0]\n",
      "The percentage of missing value for SEMIO_DOM is 0.0\n",
      "SEMIO_KAEM\n",
      "[-1.0, 9.0]\n",
      "The percentage of missing value for SEMIO_KAEM is 0.0\n",
      "SEMIO_PFLICHT\n",
      "[-1.0, 9.0]\n",
      "The percentage of missing value for SEMIO_PFLICHT is 0.0\n",
      "SEMIO_TRADV\n",
      "[-1.0, 9.0]\n",
      "The percentage of missing value for SEMIO_TRADV is 0.0\n",
      "SHOPPER_TYP\n",
      "[-1.0]\n",
      "The percentage of missing value for SHOPPER_TYP is 0.12476815514894735\n",
      "SOHO_KZ\n",
      "[-1.0]\n",
      "The percentage of missing value for SOHO_KZ is 0.08247000463409188\n",
      "TITEL_KZ\n",
      "[-1.0, 0.0]\n",
      "The percentage of missing value for TITEL_KZ is 0.9975763587258379\n",
      "VERS_TYP\n",
      "[-1.0]\n",
      "The percentage of missing value for VERS_TYP is 0.12476815514894735\n",
      "ZABEOTYP\n",
      "[-1.0, 9.0]\n",
      "The percentage of missing value for ZABEOTYP is 0.0\n",
      "ALTER_HH\n",
      "[0.0]\n",
      "The percentage of missing value for ALTER_HH is 0.34813699407890975\n",
      "ANZ_PERSONEN\n",
      "['']\n",
      "The percentage of missing value for ANZ_PERSONEN is 0.08247000463409188\n",
      "ANZ_TITEL\n",
      "['']\n",
      "The percentage of missing value for ANZ_TITEL is 0.08247000463409188\n",
      "HH_EINKOMMEN_SCORE\n",
      "[-1.0, 0.0]\n",
      "The percentage of missing value for HH_EINKOMMEN_SCORE is 0.020587486156632306\n",
      "KK_KUNDENTYP\n",
      "[-1.0]\n",
      "The percentage of missing value for KK_KUNDENTYP is 0.6559674873011295\n",
      "W_KEIT_KIND_HH\n",
      "[-1.0, 0.0]\n",
      "The percentage of missing value for W_KEIT_KIND_HH is 0.16605084485217472\n",
      "WOHNDAUER_2008\n",
      "[-1.0, 0.0]\n",
      "The percentage of missing value for WOHNDAUER_2008 is 0.08247000463409188\n",
      "ANZ_HAUSHALTE_AKTIV\n",
      "[0.0]\n",
      "The percentage of missing value for ANZ_HAUSHALTE_AKTIV is 0.11176913470396231\n",
      "ANZ_HH_TITEL\n",
      "['']\n",
      "The percentage of missing value for ANZ_HH_TITEL is 0.10884842255736793\n",
      "GEBAEUDETYP\n",
      "[-1.0, 0.0]\n",
      "The percentage of missing value for GEBAEUDETYP is 0.10451728583594866\n",
      "KONSUMNAEHE\n",
      "['']\n",
      "The percentage of missing value for KONSUMNAEHE is 0.08299737102245122\n",
      "MIN_GEBAEUDEJAHR\n",
      "[0.0]\n",
      "The percentage of missing value for MIN_GEBAEUDEJAHR is 0.10451728583594866\n",
      "OST_WEST_KZ\n",
      "['-1']\n",
      "The percentage of missing value for OST_WEST_KZ is 0.10451728583594866\n",
      "WOHNLAGE\n",
      "[-1.0]\n",
      "The percentage of missing value for WOHNLAGE is 0.10451728583594866\n",
      "CAMEO_DEUG_2015\n",
      "['-1', 'X']\n",
      "The percentage of missing value for CAMEO_DEUG_2015 is 0.11147852216229195\n",
      "CAMEO_DEU_2015\n",
      "['XX']\n",
      "The percentage of missing value for CAMEO_DEU_2015 is 0.11147852216229195\n",
      "CAMEO_INTL_2015\n",
      "['-1', 'XX']\n",
      "The percentage of missing value for CAMEO_INTL_2015 is 0.11147852216229195\n",
      "KBA05_ANTG1\n",
      "[-1.0]\n",
      "The percentage of missing value for KBA05_ANTG1 is 0.14959701353536328\n",
      "KBA05_ANTG2\n",
      "[-1.0]\n",
      "The percentage of missing value for KBA05_ANTG2 is 0.14959701353536328\n",
      "KBA05_ANTG3\n",
      "[-1.0]\n",
      "The percentage of missing value for KBA05_ANTG3 is 0.14959701353536328\n",
      "KBA05_ANTG4\n",
      "[-1.0]\n",
      "The percentage of missing value for KBA05_ANTG4 is 0.14959701353536328\n",
      "KBA05_BAUMAX\n",
      "[-1.0, 0.0]\n",
      "The percentage of missing value for KBA05_BAUMAX is 0.5346866826522265\n",
      "KBA05_GBZ\n",
      "[-1.0, 0.0]\n",
      "The percentage of missing value for KBA05_GBZ is 0.14959701353536328\n",
      "BALLRAUM\n",
      "[-1.0]\n",
      "The percentage of missing value for BALLRAUM is 0.10518154307405234\n",
      "EWDICHTE\n",
      "[-1.0]\n",
      "The percentage of missing value for EWDICHTE is 0.10518154307405234\n",
      "INNENSTADT\n",
      "[-1.0]\n",
      "The percentage of missing value for INNENSTADT is 0.10518154307405234\n",
      "GEBAEUDETYP_RASTER\n",
      "['']\n",
      "The percentage of missing value for GEBAEUDETYP_RASTER is 0.10452514022896678\n",
      "KKK\n",
      "[-1.0, 0.0]\n",
      "The percentage of missing value for KKK is 0.17735668257368262\n",
      "MOBI_REGIO\n",
      "['']\n",
      "The percentage of missing value for MOBI_REGIO is 0.14959701353536328\n",
      "ONLINE_AFFINITAET\n",
      "['']\n",
      "The percentage of missing value for ONLINE_AFFINITAET is 0.005446460529992\n",
      "REGIOTYP\n",
      "[-1.0, 0.0]\n",
      "The percentage of missing value for REGIOTYP is 0.17735668257368262\n",
      "KBA13_ANZAHL_PKW\n",
      "['']\n",
      "The percentage of missing value for KBA13_ANZAHL_PKW is 0.11871354018812394\n",
      "PLZ8_ANTG1\n",
      "[-1.0]\n",
      "The percentage of missing value for PLZ8_ANTG1 is 0.13073637178657146\n",
      "PLZ8_ANTG2\n",
      "[-1.0]\n",
      "The percentage of missing value for PLZ8_ANTG2 is 0.13073637178657146\n",
      "PLZ8_ANTG3\n",
      "[-1.0]\n",
      "The percentage of missing value for PLZ8_ANTG3 is 0.13073637178657146\n",
      "PLZ8_ANTG4\n",
      "[-1.0]\n",
      "The percentage of missing value for PLZ8_ANTG4 is 0.13073637178657146\n",
      "PLZ8_BAUMAX\n",
      "[-1.0, 0.0]\n",
      "The percentage of missing value for PLZ8_BAUMAX is 0.13073637178657146\n",
      "PLZ8_HHZ\n",
      "[-1.0]\n",
      "The percentage of missing value for PLZ8_HHZ is 0.13073637178657146\n",
      "PLZ8_GBZ\n",
      "[-1.0]\n",
      "The percentage of missing value for PLZ8_GBZ is 0.13073637178657146\n",
      "ARBEIT\n",
      "[-1.0, 9.0]\n",
      "The percentage of missing value for ARBEIT is 0.10926021716274639\n",
      "ORTSGR_KLS9\n",
      "[-1.0, 0.0]\n",
      "The percentage of missing value for ORTSGR_KLS9 is 0.1091468894920564\n",
      "RELAT_AB\n",
      "[-1.0, 9.0]\n",
      "The percentage of missing value for RELAT_AB is 0.10926021716274639\n"
     ]
    }
   ],
   "source": [
    "# Identify missing or unknown data values and convert them to NaNs.\n",
    "\n",
    "for index, row in feat_info.iterrows():\n",
    "    column_name = row['attribute']\n",
    "    missing_or_unknow_list = row['missing_or_unknown'][1:-1].split(',')\n",
    "    print(column_name)\n",
    "    \n",
    "    missing_or_unknow_count = 0\n",
    "    if azdias[column_name].dtypes != 'object' and len(missing_or_unknow_list) != 0 and missing_or_unknow_list[0] != '':\n",
    "        missing_or_unknow_list = list(map(float, missing_or_unknow_list))\n",
    "    print(missing_or_unknow_list)\n",
    "    azdias[column_name] = azdias[column_name].replace(missing_or_unknow_list, np.nan)\n",
    "    percentage = azdias[column_name].isnull().sum() / len(azdias[column_name])\n",
    "    \n",
    "    print('The percentage of missing value for {} is {}'.format(column_name, percentage))\n",
    "\n",
    "azdias_filled = azdias\n"
   ]
  },
  {
   "cell_type": "code",
   "execution_count": 87,
   "metadata": {},
   "outputs": [],
   "source": [
    "# azdias_filled.to_csv('azdias_filled_nan.csv',index=False)  "
   ]
  },
  {
   "cell_type": "markdown",
   "metadata": {},
   "source": [
    "#### Step 1.1.2: Assess Missing Data in Each Column\n",
    "\n",
    "How much missing data is present in each column? There are a few columns that are outliers in terms of the proportion of values that are missing. You will want to use matplotlib's [`hist()`](https://matplotlib.org/api/_as_gen/matplotlib.pyplot.hist.html) function to visualize the distribution of missing value counts to find these columns. Identify and document these columns. While some of these columns might have justifications for keeping or re-encoding the data, for this project you should just remove them from the dataframe. (Feel free to make remarks about these outlier columns in the discussion, however!)\n",
    "\n",
    "For the remaining features, are there any patterns in which columns have, or share, missing data?"
   ]
  },
  {
   "cell_type": "code",
   "execution_count": 109,
   "metadata": {},
   "outputs": [],
   "source": [
    "# return te columns list andcorresponding percentages list for nan value percentage in each column larger than n\n",
    "# by columns\n",
    "\n",
    "# this will take a very long time to run!\n",
    "# Params:\n",
    "#     df: dataframe\n",
    "#     n: percentage in decimal\n",
    "# Return: the list of names and percentage of nan values column which large than n\n",
    "\n",
    "def get_percentage_missing_in_column(df, n):\n",
    "    name_list = []\n",
    "    percentage_list = []\n",
    "    \n",
    "    for column_name in df:\n",
    "        column = df[column_name]\n",
    "        percentage = column.isnull().sum() / len(column)\n",
    "        if percentage > n:\n",
    "            name_list.append(column_name)\n",
    "            percentage_list.append(percentage)\n",
    "            \n",
    "    return name_list, percentage_list"
   ]
  },
  {
   "cell_type": "code",
   "execution_count": 89,
   "metadata": {},
   "outputs": [],
   "source": [
    "# azdias_filled_nan = pd.read_csv('azdias_filled_nan.csv')\n",
    "azdias_filled_nan = azdias_filled"
   ]
  },
  {
   "cell_type": "code",
   "execution_count": 90,
   "metadata": {},
   "outputs": [],
   "source": [
    "# Perform an assessment of how much missing data there is in each column of the\n",
    "# dataset.\n",
    "\n",
    "# get the columns that has nan value large than 10%\n",
    "name_list_10, percentage_list_10 = get_percentage_missing_in_column(azdias_filled_nan, 0.1)\n"
   ]
  },
  {
   "cell_type": "code",
   "execution_count": 91,
   "metadata": {},
   "outputs": [
    {
     "data": {
      "text/plain": [
       "<BarContainer object of 46 artists>"
      ]
     },
     "execution_count": 91,
     "metadata": {},
     "output_type": "execute_result"
    },
    {
     "data": {
      "image/png": "[encoded data removed]",
      "text/plain": [
       "<Figure size 2160x1440 with 1 Axes>"
      ]
     },
     "metadata": {
      "needs_background": "light"
     },
     "output_type": "display_data"
    }
   ],
   "source": [
    "# plot the figure\n",
    "plt.figure(figsize=(30,20))\n",
    "plt.rcParams.update({'font.size': 22})\n",
    "plt.barh(name_list_10, width = percentage_list_10)"
   ]
  },
  {
   "cell_type": "code",
   "execution_count": 93,
   "metadata": {},
   "outputs": [
    {
     "data": {
      "text/plain": [
       "(891221, 85)"
      ]
     },
     "execution_count": 93,
     "metadata": {},
     "output_type": "execute_result"
    }
   ],
   "source": [
    "azdias_filled_nan.shape"
   ]
  },
  {
   "cell_type": "markdown",
   "metadata": {},
   "source": [
    "# Investigate patterns in the amount of missing data in each column.\n"
   ]
  },
  {
   "cell_type": "code",
   "execution_count": 94,
   "metadata": {},
   "outputs": [
    {
     "data": {
      "text/html": [
       "<div>\n",
       "<style scoped>\n",
       "    .dataframe tbody tr th:only-of-type {\n",
       "        vertical-align: middle;\n",
       "    }\n",
       "\n",
       "    .dataframe tbody tr th {\n",
       "        vertical-align: top;\n",
       "    }\n",
       "\n",
       "    .dataframe thead th {\n",
       "        text-align: right;\n",
       "    }\n",
       "</style>\n",
       "<table border=\"1\" class=\"dataframe\">\n",
       "  <thead>\n",
       "    <tr style=\"text-align: right;\">\n",
       "      <th></th>\n",
       "      <th>AGER_TYP</th>\n",
       "      <th>ALTERSKATEGORIE_GROB</th>\n",
       "      <th>ANREDE_KZ</th>\n",
       "      <th>CJT_GESAMTTYP</th>\n",
       "      <th>FINANZ_MINIMALIST</th>\n",
       "      <th>FINANZ_SPARER</th>\n",
       "      <th>FINANZ_VORSORGER</th>\n",
       "      <th>FINANZ_ANLEGER</th>\n",
       "      <th>FINANZ_UNAUFFAELLIGER</th>\n",
       "      <th>FINANZ_HAUSBAUER</th>\n",
       "      <th>...</th>\n",
       "      <th>PLZ8_ANTG1</th>\n",
       "      <th>PLZ8_ANTG2</th>\n",
       "      <th>PLZ8_ANTG3</th>\n",
       "      <th>PLZ8_ANTG4</th>\n",
       "      <th>PLZ8_BAUMAX</th>\n",
       "      <th>PLZ8_HHZ</th>\n",
       "      <th>PLZ8_GBZ</th>\n",
       "      <th>ARBEIT</th>\n",
       "      <th>ORTSGR_KLS9</th>\n",
       "      <th>RELAT_AB</th>\n",
       "    </tr>\n",
       "  </thead>\n",
       "  <tbody>\n",
       "    <tr>\n",
       "      <th>0</th>\n",
       "      <td>NaN</td>\n",
       "      <td>2.0</td>\n",
       "      <td>1</td>\n",
       "      <td>2.0</td>\n",
       "      <td>3</td>\n",
       "      <td>4</td>\n",
       "      <td>3</td>\n",
       "      <td>5</td>\n",
       "      <td>5</td>\n",
       "      <td>3</td>\n",
       "      <td>...</td>\n",
       "      <td>NaN</td>\n",
       "      <td>NaN</td>\n",
       "      <td>NaN</td>\n",
       "      <td>NaN</td>\n",
       "      <td>NaN</td>\n",
       "      <td>NaN</td>\n",
       "      <td>NaN</td>\n",
       "      <td>NaN</td>\n",
       "      <td>NaN</td>\n",
       "      <td>NaN</td>\n",
       "    </tr>\n",
       "    <tr>\n",
       "      <th>1</th>\n",
       "      <td>NaN</td>\n",
       "      <td>1.0</td>\n",
       "      <td>2</td>\n",
       "      <td>5.0</td>\n",
       "      <td>1</td>\n",
       "      <td>5</td>\n",
       "      <td>2</td>\n",
       "      <td>5</td>\n",
       "      <td>4</td>\n",
       "      <td>5</td>\n",
       "      <td>...</td>\n",
       "      <td>2.0</td>\n",
       "      <td>3.0</td>\n",
       "      <td>2.0</td>\n",
       "      <td>1.0</td>\n",
       "      <td>1.0</td>\n",
       "      <td>5.0</td>\n",
       "      <td>4.0</td>\n",
       "      <td>3.0</td>\n",
       "      <td>5.0</td>\n",
       "      <td>4.0</td>\n",
       "    </tr>\n",
       "    <tr>\n",
       "      <th>2</th>\n",
       "      <td>NaN</td>\n",
       "      <td>3.0</td>\n",
       "      <td>2</td>\n",
       "      <td>3.0</td>\n",
       "      <td>1</td>\n",
       "      <td>4</td>\n",
       "      <td>1</td>\n",
       "      <td>2</td>\n",
       "      <td>3</td>\n",
       "      <td>5</td>\n",
       "      <td>...</td>\n",
       "      <td>3.0</td>\n",
       "      <td>3.0</td>\n",
       "      <td>1.0</td>\n",
       "      <td>0.0</td>\n",
       "      <td>1.0</td>\n",
       "      <td>4.0</td>\n",
       "      <td>4.0</td>\n",
       "      <td>3.0</td>\n",
       "      <td>5.0</td>\n",
       "      <td>2.0</td>\n",
       "    </tr>\n",
       "    <tr>\n",
       "      <th>3</th>\n",
       "      <td>2.0</td>\n",
       "      <td>4.0</td>\n",
       "      <td>2</td>\n",
       "      <td>2.0</td>\n",
       "      <td>4</td>\n",
       "      <td>2</td>\n",
       "      <td>5</td>\n",
       "      <td>2</td>\n",
       "      <td>1</td>\n",
       "      <td>2</td>\n",
       "      <td>...</td>\n",
       "      <td>2.0</td>\n",
       "      <td>2.0</td>\n",
       "      <td>2.0</td>\n",
       "      <td>0.0</td>\n",
       "      <td>1.0</td>\n",
       "      <td>3.0</td>\n",
       "      <td>4.0</td>\n",
       "      <td>2.0</td>\n",
       "      <td>3.0</td>\n",
       "      <td>3.0</td>\n",
       "    </tr>\n",
       "    <tr>\n",
       "      <th>4</th>\n",
       "      <td>NaN</td>\n",
       "      <td>3.0</td>\n",
       "      <td>1</td>\n",
       "      <td>5.0</td>\n",
       "      <td>4</td>\n",
       "      <td>3</td>\n",
       "      <td>4</td>\n",
       "      <td>1</td>\n",
       "      <td>3</td>\n",
       "      <td>2</td>\n",
       "      <td>...</td>\n",
       "      <td>2.0</td>\n",
       "      <td>4.0</td>\n",
       "      <td>2.0</td>\n",
       "      <td>1.0</td>\n",
       "      <td>2.0</td>\n",
       "      <td>3.0</td>\n",
       "      <td>3.0</td>\n",
       "      <td>4.0</td>\n",
       "      <td>6.0</td>\n",
       "      <td>5.0</td>\n",
       "    </tr>\n",
       "  </tbody>\n",
       "</table>\n",
       "<p>5 rows × 85 columns</p>\n",
       "</div>"
      ],
      "text/plain": [
       "   AGER_TYP  ALTERSKATEGORIE_GROB  ANREDE_KZ  CJT_GESAMTTYP  \\\n",
       "0       NaN                   2.0          1            2.0   \n",
       "1       NaN                   1.0          2            5.0   \n",
       "2       NaN                   3.0          2            3.0   \n",
       "3       2.0                   4.0          2            2.0   \n",
       "4       NaN                   3.0          1            5.0   \n",
       "\n",
       "   FINANZ_MINIMALIST  FINANZ_SPARER  FINANZ_VORSORGER  FINANZ_ANLEGER  \\\n",
       "0                  3              4                 3               5   \n",
       "1                  1              5                 2               5   \n",
       "2                  1              4                 1               2   \n",
       "3                  4              2                 5               2   \n",
       "4                  4              3                 4               1   \n",
       "\n",
       "   FINANZ_UNAUFFAELLIGER  FINANZ_HAUSBAUER    ...     PLZ8_ANTG1  PLZ8_ANTG2  \\\n",
       "0                      5                 3    ...            NaN         NaN   \n",
       "1                      4                 5    ...            2.0         3.0   \n",
       "2                      3                 5    ...            3.0         3.0   \n",
       "3                      1                 2    ...            2.0         2.0   \n",
       "4                      3                 2    ...            2.0         4.0   \n",
       "\n",
       "   PLZ8_ANTG3  PLZ8_ANTG4  PLZ8_BAUMAX  PLZ8_HHZ  PLZ8_GBZ  ARBEIT  \\\n",
       "0         NaN         NaN          NaN       NaN       NaN     NaN   \n",
       "1         2.0         1.0          1.0       5.0       4.0     3.0   \n",
       "2         1.0         0.0          1.0       4.0       4.0     3.0   \n",
       "3         2.0         0.0          1.0       3.0       4.0     2.0   \n",
       "4         2.0         1.0          2.0       3.0       3.0     4.0   \n",
       "\n",
       "   ORTSGR_KLS9  RELAT_AB  \n",
       "0          NaN       NaN  \n",
       "1          5.0       4.0  \n",
       "2          5.0       2.0  \n",
       "3          3.0       3.0  \n",
       "4          6.0       5.0  \n",
       "\n",
       "[5 rows x 85 columns]"
      ]
     },
     "execution_count": 94,
     "metadata": {},
     "output_type": "execute_result"
    }
   ],
   "source": [
    "azdias_filled_nan.head(5)"
   ]
  },
  {
   "cell_type": "code",
   "execution_count": 288,
   "metadata": {},
   "outputs": [
    {
     "name": "stdout",
     "output_type": "stream",
     "text": [
      "(891221, 85)\n"
     ]
    }
   ],
   "source": [
    "# Remove the outlier columns from the dataset. (You'll perform other data\n",
    "# engineering tasks such as re-encoding and imputation later.)\n",
    "print(azdias_filled_nan.shape)\n",
    "# as we can see from above fligure, we will remove outliers that has missing values more than 20%\n",
    "name_list_20, percentage_list_20 = get_percentage_missing_in_column(azdias_filled_nan, 0.2)\n",
    "azdias_filled_nan_dropped = azdias_filled_nan.drop(name_list_20, axis = 1)"
   ]
  },
  {
   "cell_type": "code",
   "execution_count": 289,
   "metadata": {},
   "outputs": [
    {
     "name": "stdout",
     "output_type": "stream",
     "text": [
      "(891221, 79)\n"
     ]
    }
   ],
   "source": [
    "print(azdias_filled_nan_dropped.shape)"
   ]
  },
  {
   "cell_type": "markdown",
   "metadata": {},
   "source": [
    "#### Discussion 1.1.2: Assess Missing Data in Each Column\n",
    "\n",
    "As we can see that most of the columns does not appear in the above figure, which means that they have nan value less than 10%.\n",
    "\n",
    "And we have two columns `KK_KUNDENTYP` and `AGER_TYP` that has much higher missing values, so we removed this two columns from the dataset above"
   ]
  },
  {
   "cell_type": "markdown",
   "metadata": {},
   "source": [
    "#### Step 1.1.3: Assess Missing Data in Each Row\n",
    "\n",
    "Now, you'll perform a similar assessment for the rows of the dataset. How much data is missing in each row? As with the columns, you should see some groups of points that have a very different numbers of missing values. Divide the data into two subsets: one for data points that are above some threshold for missing values, and a second subset for points below that threshold.\n",
    "\n",
    "In order to know what to do with the outlier rows, we should see if the distribution of data values on columns that are not missing data (or are missing very little data) are similar or different between the two groups. Select at least five of these columns and compare the distribution of values.\n",
    "- You can use seaborn's [`countplot()`](https://seaborn.pydata.org/generated/seaborn.countplot.html) function to create a bar chart of code frequencies and matplotlib's [`subplot()`](https://matplotlib.org/api/_as_gen/matplotlib.pyplot.subplot.html) function to put bar charts for the two subplots side by side.\n",
    "- To reduce repeated code, you might want to write a function that can perform this comparison, taking as one of its arguments a column to be compared.\n",
    "\n",
    "Depending on what you observe in your comparison, this will have implications on how you approach your conclusions later in the analysis. If the distributions of non-missing features look similar between the data with many missing values and the data with few or no missing values, then we could argue that simply dropping those points from the analysis won't present a major issue. On the other hand, if the data with many missing values looks very different from the data with few or no missing values, then we should make a note on those data as special. We'll revisit these data later on. **Either way, you should continue your analysis for now using just the subset of the data with few or no missing values.**"
   ]
  },
  {
   "cell_type": "code",
   "execution_count": 290,
   "metadata": {},
   "outputs": [
    {
     "name": "stdout",
     "output_type": "stream",
     "text": [
      "49\n",
      "4\n",
      "4\n",
      "9\n",
      "3\n",
      "2\n",
      "5\n",
      "4\n",
      "4\n",
      "3\n",
      "3\n",
      "53\n",
      "10\n",
      "11\n",
      "53\n",
      "11\n",
      "9\n",
      "53\n",
      "9\n",
      "5\n",
      "16\n",
      "6\n",
      "6\n",
      "11\n",
      "53\n",
      "9\n",
      "24\n",
      "5\n",
      "4\n",
      "4\n",
      "40\n",
      "5\n",
      "3\n",
      "3\n",
      "6\n",
      "49\n",
      "5\n",
      "2\n",
      "5\n",
      "7\n",
      "10\n",
      "2\n",
      "4\n",
      "3\n",
      "4\n",
      "2\n",
      "46\n",
      "2\n",
      "53\n",
      "5\n",
      "5\n",
      "2\n",
      "3\n",
      "49\n",
      "53\n",
      "6\n",
      "3\n",
      "4\n",
      "2\n",
      "5\n",
      "8\n",
      "49\n",
      "49\n",
      "3\n",
      "8\n",
      "6\n",
      "2\n",
      "2\n",
      "2\n",
      "53\n",
      "10\n",
      "5\n",
      "7\n",
      "12\n",
      "4\n",
      "53\n",
      "49\n",
      "4\n",
      "5\n",
      "2\n",
      "6\n",
      "51\n",
      "2\n",
      "49\n",
      "1\n",
      "5\n",
      "2\n",
      "3\n",
      "11\n",
      "7\n",
      "40\n",
      "3\n",
      "5\n",
      "3\n",
      "9\n",
      "6\n",
      "9\n",
      "53\n",
      "2\n",
      "53\n",
      "3\n",
      "3\n",
      "5\n",
      "53\n",
      "3\n",
      "2\n",
      "49\n",
      "3\n",
      "53\n",
      "49\n",
      "2\n",
      "5\n",
      "53\n",
      "2\n",
      "6\n",
      "1\n",
      "4\n",
      "3\n",
      "11\n",
      "3\n",
      "4\n",
      "2\n",
      "2\n",
      "5\n",
      "4\n",
      "4\n",
      "4\n",
      "2\n",
      "3\n",
      "5\n",
      "7\n",
      "2\n",
      "3\n",
      "53\n",
      "5\n",
      "2\n",
      "7\n",
      "53\n",
      "33\n",
      "5\n",
      "3\n",
      "9\n",
      "21\n",
      "23\n",
      "53\n",
      "6\n",
      "3\n",
      "4\n",
      "4\n",
      "3\n",
      "3\n",
      "2\n",
      "4\n",
      "49\n",
      "53\n",
      "6\n",
      "14\n",
      "11\n",
      "22\n",
      "12\n",
      "2\n",
      "4\n",
      "9\n",
      "53\n",
      "6\n",
      "38\n",
      "6\n",
      "2\n",
      "53\n",
      "2\n",
      "3\n",
      "2\n",
      "2\n",
      "23\n",
      "5\n",
      "53\n",
      "20\n",
      "6\n",
      "22\n",
      "49\n",
      "3\n",
      "4\n",
      "5\n",
      "6\n",
      "14\n",
      "6\n",
      "9\n",
      "3\n",
      "3\n",
      "2\n",
      "5\n",
      "14\n",
      "4\n",
      "12\n",
      "3\n",
      "6\n",
      "7\n",
      "9\n",
      "4\n",
      "39\n",
      "2\n",
      "3\n",
      "13\n",
      "3\n",
      "3\n",
      "49\n",
      "4\n",
      "1\n",
      "8\n",
      "53\n",
      "53\n",
      "3\n",
      "3\n",
      "7\n",
      "4\n",
      "3\n",
      "2\n",
      "3\n",
      "3\n",
      "2\n",
      "3\n",
      "2\n",
      "3\n",
      "4\n",
      "3\n",
      "4\n",
      "5\n",
      "53\n",
      "53\n",
      "39\n",
      "53\n",
      "4\n",
      "5\n",
      "49\n",
      "5\n",
      "6\n",
      "53\n",
      "49\n",
      "3\n",
      "53\n",
      "4\n",
      "2\n",
      "5\n",
      "2\n",
      "49\n",
      "7\n",
      "3\n",
      "4\n",
      "53\n",
      "3\n",
      "53\n",
      "2\n",
      "6\n",
      "3\n",
      "8\n",
      "12\n",
      "2\n",
      "3\n",
      "10\n",
      "3\n",
      "4\n",
      "5\n",
      "3\n",
      "2\n",
      "5\n",
      "11\n",
      "3\n",
      "7\n",
      "3\n",
      "18\n",
      "3\n",
      "5\n",
      "13\n",
      "3\n",
      "5\n",
      "2\n",
      "5\n",
      "3\n",
      "4\n",
      "3\n",
      "11\n",
      "4\n",
      "1\n",
      "2\n",
      "3\n",
      "2\n",
      "37\n",
      "3\n",
      "37\n",
      "3\n",
      "5\n",
      "13\n",
      "4\n",
      "2\n",
      "6\n",
      "2\n",
      "5\n",
      "6\n",
      "2\n",
      "5\n"
     ]
    }
   ],
   "source": [
    "# How much data is missing in each row of the dataset?\n",
    "\n",
    "# we have 891221 rows, so I only print out first 300, so we could \n",
    "\n",
    "for i in range(300):\n",
    "    nan_count = pd.isnull(azdias_filled_nan.iloc[i].values).sum()\n",
    "    print(nan_count)"
   ]
  },
  {
   "cell_type": "markdown",
   "metadata": {},
   "source": [
    "As we can see above, most of them are below 10, but there is a high percentage that the total missing values in each rows will be more than 30, so we could seperate the data into two subsets by the wether the missing values are less than 30"
   ]
  },
  {
   "cell_type": "code",
   "execution_count": 291,
   "metadata": {},
   "outputs": [
    {
     "data": {
      "text/html": [
       "<div>\n",
       "<style scoped>\n",
       "    .dataframe tbody tr th:only-of-type {\n",
       "        vertical-align: middle;\n",
       "    }\n",
       "\n",
       "    .dataframe tbody tr th {\n",
       "        vertical-align: top;\n",
       "    }\n",
       "\n",
       "    .dataframe thead th {\n",
       "        text-align: right;\n",
       "    }\n",
       "</style>\n",
       "<table border=\"1\" class=\"dataframe\">\n",
       "  <thead>\n",
       "    <tr style=\"text-align: right;\">\n",
       "      <th></th>\n",
       "      <th>AGER_TYP</th>\n",
       "      <th>ALTERSKATEGORIE_GROB</th>\n",
       "      <th>ANREDE_KZ</th>\n",
       "      <th>CJT_GESAMTTYP</th>\n",
       "      <th>FINANZ_MINIMALIST</th>\n",
       "      <th>FINANZ_SPARER</th>\n",
       "      <th>FINANZ_VORSORGER</th>\n",
       "      <th>FINANZ_ANLEGER</th>\n",
       "      <th>FINANZ_UNAUFFAELLIGER</th>\n",
       "      <th>FINANZ_HAUSBAUER</th>\n",
       "      <th>...</th>\n",
       "      <th>PLZ8_ANTG1</th>\n",
       "      <th>PLZ8_ANTG2</th>\n",
       "      <th>PLZ8_ANTG3</th>\n",
       "      <th>PLZ8_ANTG4</th>\n",
       "      <th>PLZ8_BAUMAX</th>\n",
       "      <th>PLZ8_HHZ</th>\n",
       "      <th>PLZ8_GBZ</th>\n",
       "      <th>ARBEIT</th>\n",
       "      <th>ORTSGR_KLS9</th>\n",
       "      <th>RELAT_AB</th>\n",
       "    </tr>\n",
       "  </thead>\n",
       "  <tbody>\n",
       "    <tr>\n",
       "      <th>0</th>\n",
       "      <td>NaN</td>\n",
       "      <td>2.0</td>\n",
       "      <td>1</td>\n",
       "      <td>2.0</td>\n",
       "      <td>3</td>\n",
       "      <td>4</td>\n",
       "      <td>3</td>\n",
       "      <td>5</td>\n",
       "      <td>5</td>\n",
       "      <td>3</td>\n",
       "      <td>...</td>\n",
       "      <td>NaN</td>\n",
       "      <td>NaN</td>\n",
       "      <td>NaN</td>\n",
       "      <td>NaN</td>\n",
       "      <td>NaN</td>\n",
       "      <td>NaN</td>\n",
       "      <td>NaN</td>\n",
       "      <td>NaN</td>\n",
       "      <td>NaN</td>\n",
       "      <td>NaN</td>\n",
       "    </tr>\n",
       "    <tr>\n",
       "      <th>2</th>\n",
       "      <td>NaN</td>\n",
       "      <td>3.0</td>\n",
       "      <td>2</td>\n",
       "      <td>3.0</td>\n",
       "      <td>1</td>\n",
       "      <td>4</td>\n",
       "      <td>1</td>\n",
       "      <td>2</td>\n",
       "      <td>3</td>\n",
       "      <td>5</td>\n",
       "      <td>...</td>\n",
       "      <td>3.0</td>\n",
       "      <td>3.0</td>\n",
       "      <td>1.0</td>\n",
       "      <td>0.0</td>\n",
       "      <td>1.0</td>\n",
       "      <td>4.0</td>\n",
       "      <td>4.0</td>\n",
       "      <td>3.0</td>\n",
       "      <td>5.0</td>\n",
       "      <td>2.0</td>\n",
       "    </tr>\n",
       "  </tbody>\n",
       "</table>\n",
       "<p>2 rows × 85 columns</p>\n",
       "</div>"
      ],
      "text/plain": [
       "   AGER_TYP  ALTERSKATEGORIE_GROB  ANREDE_KZ  CJT_GESAMTTYP  \\\n",
       "0       NaN                   2.0          1            2.0   \n",
       "2       NaN                   3.0          2            3.0   \n",
       "\n",
       "   FINANZ_MINIMALIST  FINANZ_SPARER  FINANZ_VORSORGER  FINANZ_ANLEGER  \\\n",
       "0                  3              4                 3               5   \n",
       "2                  1              4                 1               2   \n",
       "\n",
       "   FINANZ_UNAUFFAELLIGER  FINANZ_HAUSBAUER    ...     PLZ8_ANTG1  PLZ8_ANTG2  \\\n",
       "0                      5                 3    ...            NaN         NaN   \n",
       "2                      3                 5    ...            3.0         3.0   \n",
       "\n",
       "   PLZ8_ANTG3  PLZ8_ANTG4  PLZ8_BAUMAX  PLZ8_HHZ  PLZ8_GBZ  ARBEIT  \\\n",
       "0         NaN         NaN          NaN       NaN       NaN     NaN   \n",
       "2         1.0         0.0          1.0       4.0       4.0     3.0   \n",
       "\n",
       "   ORTSGR_KLS9  RELAT_AB  \n",
       "0          NaN       NaN  \n",
       "2          5.0       2.0  \n",
       "\n",
       "[2 rows x 85 columns]"
      ]
     },
     "execution_count": 291,
     "metadata": {},
     "output_type": "execute_result"
    }
   ],
   "source": [
    "# test\n",
    "\n",
    "# a = np.array([np.nan, 2, 1])\n",
    "# aa = pd.DataFrame()\n",
    "# np.nansum(2)\n",
    "# b = pd.DataFrame([a],columns=list('abq'))\n",
    "# # b.append(pd.DataFrame(a,columns=['a','b','q']))\n",
    "# # list(azdias_filled_nan.columns.values)\n",
    "# aa = aa.append(b, ignore_index = True)\n",
    "# aa= aa.append(b, ignore_index = True)\n",
    "# aa\n",
    "azdias_filled_nan.iloc[[0,2]]"
   ]
  },
  {
   "cell_type": "code",
   "execution_count": 293,
   "metadata": {},
   "outputs": [
    {
     "name": "stdout",
     "output_type": "stream",
     "text": [
      "0.0 %\n",
      "10.0 %\n",
      "20.0 %\n",
      "30.0 %\n",
      "40.0 %\n",
      "50.0 %\n",
      "60.0 %\n",
      "70.0 %\n",
      "80.0 %\n",
      "90.0 %\n",
      "100.0 %\n",
      "Done!\n"
     ]
    }
   ],
   "source": [
    "# Write code to divide the data into two subsets based on the number of missing\n",
    "# values in each row.\n",
    "# by rows\n",
    "\n",
    "# this will take a very long time to run!\n",
    "# Params:\n",
    "#     df: dataframe\n",
    "#     n: threshold\n",
    "# Return: list of index below threshold and above threshold\n",
    "\n",
    "def get_misssing_info_in_row(df, n):\n",
    "    subset_below_threshold_indexes = []\n",
    "    subset_above_threshold_indexes = []\n",
    "#     column_names = list(df.columns.values)\n",
    "    rows_count = df.shape[0]\n",
    "    print_every = rows_count // 10\n",
    "    \n",
    "    for index in range(rows_count):\n",
    "        row_values = df.iloc[index].values\n",
    "        nan_count = pd.isnull(row_values).sum()\n",
    "        if nan_count > n:\n",
    "            subset_above_threshold_indexes.append(index)\n",
    "        else:\n",
    "            subset_below_threshold_indexes.append(index)\n",
    "        if index % print_every == 0:\n",
    "            print('{} %'.format(index*10/print_every))\n",
    "    print('Done!')\n",
    "    return subset_below_threshold_indexes, subset_above_threshold_indexes\n",
    "\n",
    "subset_below_threshold_indexes, subset_above_threshold_indexes = get_misssing_info_in_row(azdias, 30)"
   ]
  },
  {
   "cell_type": "code",
   "execution_count": 294,
   "metadata": {},
   "outputs": [
    {
     "name": "stdout",
     "output_type": "stream",
     "text": [
      "percentage of rows with a lot of missing data: 10.46 %\n"
     ]
    }
   ],
   "source": [
    "\n",
    "print('percentage of rows with a lot of missing data: {0:.2f} %'.format(len(subset_above_threshold_indexes)*100/azdias.shape[0]))\n",
    "\n"
   ]
  },
  {
   "cell_type": "code",
   "execution_count": 295,
   "metadata": {},
   "outputs": [],
   "source": [
    "# Compare the distribution of values for at least five columns where there are\n",
    "# no or few missing values, between the two subsets.\n",
    "\n",
    "def compare_and_plot(label, data1, data2):\n",
    "    plt.figure(figsize=(20, 10));  \n",
    "    plt.subplot(2,2,1)\n",
    "    sns.countplot(x=label, data=data1)\n",
    "    plt.subplot(2,2,2)\n",
    "    sns.countplot(x=label, data=data2)\n",
    "\n",
    "compare_labels = ['ALTERSKATEGORIE_GROB','ANREDE_KZ','FINANZ_MINIMALIST','FINANZ_SPARER','FINANZ_HAUSBAUER']\n"
   ]
  },
  {
   "cell_type": "code",
   "execution_count": 296,
   "metadata": {},
   "outputs": [
    {
     "data": {
      "image/png": "[encoded data removed]",
      "text/plain": [
       "<Figure size 1440x720 with 2 Axes>"
      ]
     },
     "metadata": {
      "needs_background": "light"
     },
     "output_type": "display_data"
    },
    {
     "data": {
      "image/png": "[encoded data removed]",
      "text/plain": [
       "<Figure size 1440x720 with 2 Axes>"
      ]
     },
     "metadata": {
      "needs_background": "light"
     },
     "output_type": "display_data"
    },
    {
     "data": {
      "image/png": "[encoded data removed]",
      "text/plain": [
       "<Figure size 1440x720 with 2 Axes>"
      ]
     },
     "metadata": {
      "needs_background": "light"
     },
     "output_type": "display_data"
    },
    {
     "data": {
      "image/png": "[encoded data removed]",
      "text/plain": [
       "<Figure size 1440x720 with 2 Axes>"
      ]
     },
     "metadata": {
      "needs_background": "light"
     },
     "output_type": "display_data"
    },
    {
     "data": {
      "image/png": "[encoded data removed]",
      "text/plain": [
       "<Figure size 1440x720 with 2 Axes>"
      ]
     },
     "metadata": {
      "needs_background": "light"
     },
     "output_type": "display_data"
    }
   ],
   "source": [
    "# get the subsets from indexes,\n",
    "# original data\n",
    "subset_below_threshold = azdias.iloc[subset_below_threshold_indexes]\n",
    "subset_above_threshold = azdias.iloc[subset_above_threshold_indexes]\n",
    "\n",
    "for item in compare_labels:\n",
    "    compare_and_plot(item, subset_below_threshold, subset_above_threshold)"
   ]
  },
  {
   "cell_type": "code",
   "execution_count": 297,
   "metadata": {},
   "outputs": [
    {
     "data": {
      "image/png": "[encoded data removed]",
      "text/plain": [
       "<Figure size 1440x720 with 2 Axes>"
      ]
     },
     "metadata": {
      "needs_background": "light"
     },
     "output_type": "display_data"
    },
    {
     "data": {
      "image/png": "[encoded data removed]",
      "text/plain": [
       "<Figure size 1440x720 with 2 Axes>"
      ]
     },
     "metadata": {
      "needs_background": "light"
     },
     "output_type": "display_data"
    },
    {
     "data": {
      "image/png": "[encoded data removed]",
      "text/plain": [
       "<Figure size 1440x720 with 2 Axes>"
      ]
     },
     "metadata": {
      "needs_background": "light"
     },
     "output_type": "display_data"
    },
    {
     "data": {
      "image/png": "[encoded data removed]",
      "text/plain": [
       "<Figure size 1440x720 with 2 Axes>"
      ]
     },
     "metadata": {
      "needs_background": "light"
     },
     "output_type": "display_data"
    },
    {
     "data": {
      "image/png": "[encoded data removed]",
      "text/plain": [
       "<Figure size 1440x720 with 2 Axes>"
      ]
     },
     "metadata": {
      "needs_background": "light"
     },
     "output_type": "display_data"
    }
   ],
   "source": [
    "# get the subsets from indexes,\n",
    "# filled data with nan filled and drop 2 columns\n",
    "filled_subset_below_threshold = azdias_filled_nan_dropped.iloc[subset_below_threshold_indexes]\n",
    "filled_subset_above_threshold = azdias_filled_nan_dropped.iloc[subset_above_threshold_indexes]\n",
    "\n",
    "for item in compare_labels:\n",
    "    compare_and_plot(item, filled_subset_below_threshold, filled_subset_above_threshold)"
   ]
  },
  {
   "cell_type": "markdown",
   "metadata": {},
   "source": [
    "#### Discussion 1.1.3: Assess Missing Data in Each Row\n",
    "\n",
    "(Double-click this cell and replace this text with your own text, reporting your observations regarding missing data in rows. Are the data with lots of missing values are qualitatively different from data with few or no missing values?)\n",
    "\n",
    "A: \n",
    "\n",
    "As we can see from the above figures, the two subsets do different from each other a lot except for `ANREDE_KZ`. For other cloumns, they have similiar pattern: in the subset with a lot of missing values, most of the data values goes to near 0 while one of the data value goes higher to almoast 90% of this column. \n",
    "\n",
    "And we only have 10.45% of the rows that with a lot of missing data.\n",
    "\n",
    "Based on the above analysis, I think we should remove those rows with a lot of missing data."
   ]
  },
  {
   "cell_type": "markdown",
   "metadata": {},
   "source": [
    "### Step 1.2: Select and Re-Encode Features\n",
    "\n",
    "Checking for missing data isn't the only way in which you can prepare a dataset for analysis. Since the unsupervised learning techniques to be used will only work on data that is encoded numerically, you need to make a few encoding changes or additional assumptions to be able to make progress. In addition, while almost all of the values in the dataset are encoded using numbers, not all of them represent numeric values. Check the third column of the feature summary (`feat_info`) for a summary of types of measurement.\n",
    "- For numeric and interval data, these features can be kept without changes.\n",
    "- Most of the variables in the dataset are ordinal in nature. While ordinal values may technically be non-linear in spacing, make the simplifying assumption that the ordinal variables can be treated as being interval in nature (that is, kept without any changes).\n",
    "- Special handling may be necessary for the remaining two variable types: categorical, and 'mixed'.\n",
    "\n",
    "In the first two parts of this sub-step, you will perform an investigation of the categorical and mixed-type features and make a decision on each of them, whether you will keep, drop, or re-encode each. Then, in the last part, you will create a new data frame with only the selected and engineered columns.\n",
    "\n",
    "Data wrangling is often the trickiest part of the data analysis process, and there's a lot of it to be done here. But stick with it: once you're done with this step, you'll be ready to get to the machine learning parts of the project!"
   ]
  },
  {
   "cell_type": "code",
   "execution_count": 298,
   "metadata": {},
   "outputs": [
    {
     "name": "stdout",
     "output_type": "stream",
     "text": [
      "{'categorical': 21, 'ordinal': 49, 'numeric': 7, 'mixed': 7, 'interval': 1}\n"
     ]
    },
    {
     "data": {
      "image/png": "[encoded data removed]",
      "text/plain": [
       "<Figure size 1440x432 with 1 Axes>"
      ]
     },
     "metadata": {
      "needs_background": "light"
     },
     "output_type": "display_data"
    }
   ],
   "source": [
    "# How many features are there of each data type?\n",
    "dic = {}\n",
    "for item in feat_info['type']:\n",
    "    dic[item] = dic[item] + 1 if item in dic else 1\n",
    "\n",
    "print(dic)\n",
    "\n",
    "# show in figure\n",
    "plt.figure(figsize=(20,6))\n",
    "sns.countplot(x='type', data=feat_info)\n",
    "plt.show()\n"
   ]
  },
  {
   "cell_type": "markdown",
   "metadata": {},
   "source": [
    "#### Step 1.2.1: Re-Encode Categorical Features\n",
    "\n",
    "For categorical data, you would ordinarily need to encode the levels as dummy variables. Depending on the number of categories, perform one of the following:\n",
    "- For binary (two-level) categoricals that take numeric values, you can keep them without needing to do anything.\n",
    "- There is one binary variable that takes on non-numeric values. For this one, you need to re-encode the values as numbers or create a dummy variable.\n",
    "- For multi-level categoricals (three or more values), you can choose to encode the values using multiple dummy variables (e.g. via [OneHotEncoder](http://scikit-learn.org/stable/modules/generated/sklearn.preprocessing.OneHotEncoder.html)), or (to keep things straightforward) just drop them from the analysis. As always, document your choices in the Discussion section."
   ]
  },
  {
   "cell_type": "code",
   "execution_count": 299,
   "metadata": {},
   "outputs": [
    {
     "name": "stdout",
     "output_type": "stream",
     "text": [
      "ANREDE_KZ 2\n",
      "CJT_GESAMTTYP 6\n",
      "FINANZTYP 6\n",
      "GFK_URLAUBERTYP 12\n",
      "GREEN_AVANTGARDE 2\n",
      "LP_FAMILIE_FEIN 11\n",
      "LP_FAMILIE_GROB 5\n",
      "LP_STATUS_FEIN 10\n",
      "LP_STATUS_GROB 5\n",
      "NATIONALITAET_KZ 3\n",
      "SHOPPER_TYP 4\n",
      "SOHO_KZ 2\n",
      "VERS_TYP 2\n",
      "ZABEOTYP 6\n",
      "GEBAEUDETYP 7\n",
      "OST_WEST_KZ 2\n",
      "CAMEO_DEUG_2015 9\n",
      "CAMEO_DEU_2015 44\n",
      "\n",
      "\n",
      "4 binary variables: \n",
      "['ANREDE_KZ', 'GREEN_AVANTGARDE', 'SOHO_KZ', 'VERS_TYP']\n",
      "\n",
      "1 object_variable: \n",
      "['OST_WEST_KZ']\n",
      "\n",
      "8 small-level variables: \n",
      "['CJT_GESAMTTYP', 'FINANZTYP', 'LP_FAMILIE_GROB', 'LP_STATUS_GROB', 'NATIONALITAET_KZ', 'SHOPPER_TYP', 'ZABEOTYP', 'GEBAEUDETYP']\n",
      "\n",
      "5 large_level_variables: \n",
      "['GFK_URLAUBERTYP', 'LP_FAMILIE_FEIN', 'LP_STATUS_FEIN', 'CAMEO_DEUG_2015', 'CAMEO_DEU_2015']\n",
      "\n"
     ]
    }
   ],
   "source": [
    "# Assess categorical variables: which are binary, which are multi-level, and\n",
    "# which one needs to be re-encoded?\n",
    "object_variable = []\n",
    "binary_variable = []\n",
    "large_level_variables = []\n",
    "small_level_variables = []\n",
    "\n",
    "for index in range(feat_info.shape[0]):\n",
    "    type = feat_info['type'][index]\n",
    "    \n",
    "    if type == 'categorical':\n",
    "        attribute = feat_info['attribute'][index]\n",
    "        if attribute in filled_subset_below_threshold.columns:\n",
    "            dimensions = filled_subset_below_threshold[attribute].nunique()\n",
    "            \n",
    "            print(attribute, dimensions)\n",
    "            if dimensions == 2:\n",
    "                if filled_subset_below_threshold[attribute].dtype == 'O':\n",
    "                    object_variable.append(attribute)\n",
    "                else:\n",
    "                    binary_variable.append(attribute)\n",
    "            else:\n",
    "                if dimensions > 7:\n",
    "                    large_level_variables.append(attribute)\n",
    "                else:\n",
    "                    small_level_variables.append(attribute)\n",
    "\n",
    "print('\\n')\n",
    "print('{} binary variables: \\n{}\\n'.format(len(binary_variable), binary_variable))\n",
    "print('{} object_variable: \\n{}\\n'.format(len(object_variable), object_variable))\n",
    "print('{} small-level variables: \\n{}\\n'.format(len(small_level_variables), small_level_variables))\n",
    "print('{} large_level_variables: \\n{}\\n'.format(len(large_level_variables), large_level_variables))"
   ]
  },
  {
   "cell_type": "code",
   "execution_count": 300,
   "metadata": {},
   "outputs": [
    {
     "name": "stdout",
     "output_type": "stream",
     "text": [
      "shape before drop:  (797981, 79)\n",
      "shape after drop:  (797981, 74)\n"
     ]
    }
   ],
   "source": [
    "# drop columns:\n",
    "print('shape before drop: ', filled_subset_below_threshold.shape)\n",
    "filled_subset_below_threshold = filled_subset_below_threshold.drop(large_level_variables, axis=1)\n",
    "print('shape after drop: ', filled_subset_below_threshold.shape)\n"
   ]
  },
  {
   "cell_type": "code",
   "execution_count": 320,
   "metadata": {},
   "outputs": [
    {
     "data": {
      "text/plain": [
       "(797981, 108)"
      ]
     },
     "execution_count": 320,
     "metadata": {},
     "output_type": "execute_result"
    }
   ],
   "source": [
    "# Re-encode categorical variable(s) to be kept in the analysis.\n",
    "\n",
    "one_hot_data = filled_subset_below_threshold\n",
    "\n",
    "for item in small_level_variables:\n",
    "    one_hot_data = pd.concat([one_hot_data, pd.get_dummies(one_hot_data[item], prefix=item)], axis=1)\n",
    "    one_hot_data = one_hot_data.drop(item, axis=1)\n",
    "\n",
    "\n",
    "one_hot_data.shape\n"
   ]
  },
  {
   "cell_type": "code",
   "execution_count": 323,
   "metadata": {},
   "outputs": [],
   "source": [
    "one_hot_data['OST_WEST_KZ'] = one_hot_data['OST_WEST_KZ'].replace(['O','W'], [0,1])\n"
   ]
  },
  {
   "cell_type": "markdown",
   "metadata": {},
   "source": [
    "## Discussion 1.2.1: Re-Encode Categorical Features\n",
    "\n",
    "(Double-click this cell and replace this text with your own text, reporting your findings and decisions regarding categorical features. Which ones did you keep, which did you drop, and what engineering steps did you perform?) \n",
    "\n",
    "A:\n",
    "\n",
    "as we can see, we have 4 binary variables, and 13 multi-level variables, in which 5 of them have more than 7 different values, so I dropped those columns, and encoded the other 8 columns\n",
    "\n",
    "special treatment was applied to `OST_WEST_KZ`, since it only has 2 dimensions but value is not numerical, I converted it to binary values"
   ]
  },
  {
   "cell_type": "markdown",
   "metadata": {},
   "source": [
    "#### Step 1.2.2: Engineer Mixed-Type Features\n",
    "\n",
    "There are a handful of features that are marked as \"mixed\" in the feature summary that require special treatment in order to be included in the analysis. There are two in particular that deserve attention; the handling of the rest are up to your own choices:\n",
    "- \"PRAEGENDE_JUGENDJAHRE\" combines information on three dimensions: generation by decade, movement (mainstream vs. avantgarde), and nation (east vs. west). While there aren't enough levels to disentangle east from west, you should create two new variables to capture the other two dimensions: an interval-type variable for decade, and a binary variable for movement.\n",
    "- \"CAMEO_INTL_2015\" combines information on two axes: wealth and life stage. Break up the two-digit codes by their 'tens'-place and 'ones'-place digits into two new ordinal variables (which, for the purposes of this project, is equivalent to just treating them as their raw numeric values).\n",
    "- If you decide to keep or engineer new features around the other mixed-type features, make sure you note your steps in the Discussion section.\n",
    "\n",
    "Be sure to check `Data_Dictionary.md` for the details needed to finish these tasks."
   ]
  },
  {
   "cell_type": "code",
   "execution_count": 325,
   "metadata": {},
   "outputs": [
    {
     "name": "stdout",
     "output_type": "stream",
     "text": [
      "(797981, 108)\n",
      "1    6.0\n",
      "2    6.0\n",
      "3    4.0\n",
      "4    4.0\n",
      "5    2.0\n",
      "Name: PRAEGENDE_JUGENDJAHRE_DECADE, dtype: float64\n",
      "1    1\n",
      "2    0\n",
      "3    1\n",
      "4    1\n",
      "5    1\n",
      "Name: PRAEGENDE_JUGENDJAHRE_MOVEMENT, dtype: int64\n",
      "(797981, 109)\n"
     ]
    }
   ],
   "source": [
    "# Investigate \"PRAEGENDE_JUGENDJAHRE\" and engineer two new variables.\n",
    "# after observe the Data_Dictionary.md, we could get:\n",
    "print(one_hot_data.shape)\n",
    "\n",
    "criteria = [one_hot_data['PRAEGENDE_JUGENDJAHRE'].between(1, 2),\n",
    "            one_hot_data['PRAEGENDE_JUGENDJAHRE'].between(3, 4),\n",
    "            one_hot_data['PRAEGENDE_JUGENDJAHRE'].between(5, 7),\n",
    "            one_hot_data['PRAEGENDE_JUGENDJAHRE'].between(8, 9),\n",
    "            one_hot_data['PRAEGENDE_JUGENDJAHRE'].between(10, 13),\n",
    "            one_hot_data['PRAEGENDE_JUGENDJAHRE'].between(14, 15)]\n",
    "\n",
    "values = [1, 2, 3, 4, 5, 6] # one hot encode this???\n",
    "\n",
    "one_hot_data['PRAEGENDE_JUGENDJAHRE_DECADE'] = np.select(criteria, values, np.nan)\n",
    "print(one_hot_data['PRAEGENDE_JUGENDJAHRE_DECADE'].head())\n",
    "# create new PRAEGENDE_JUGENDJAHRE_MOVEMENT\n",
    "# 0 for mainstream, 1 for avantgrade\n",
    "mainstream_labels = [1, 3, 5, 8, 10, 12, 14]\n",
    "one_hot_data['PRAEGENDE_JUGENDJAHRE_MOVEMENT'] = one_hot_data['PRAEGENDE_JUGENDJAHRE'].isin(mainstream_labels).astype(int)\n",
    "print(one_hot_data['PRAEGENDE_JUGENDJAHRE_MOVEMENT'].head())\n",
    "# drop original column\n",
    "one_hot_data = one_hot_data.drop('PRAEGENDE_JUGENDJAHRE', axis=1)\n",
    "print(one_hot_data.shape)\n",
    "\n"
   ]
  },
  {
   "cell_type": "code",
   "execution_count": 326,
   "metadata": {},
   "outputs": [
    {
     "name": "stdout",
     "output_type": "stream",
     "text": [
      "(797981, 109)\n",
      "1    5.0\n",
      "2    2.0\n",
      "3    1.0\n",
      "4    4.0\n",
      "5    5.0\n",
      "Name: CAMEO_INTL_2015_WEALTH, dtype: float64\n",
      "1    1.0\n",
      "2    4.0\n",
      "3    2.0\n",
      "4    3.0\n",
      "5    4.0\n",
      "Name: CAMEO_INTL_2015_LIFE_STAGE, dtype: float64\n",
      "(797981, 110)\n"
     ]
    }
   ],
   "source": [
    "# Investigate \"CAMEO_INTL_2015\" and engineer two new variables.\n",
    "print(one_hot_data.shape)\n",
    "\n",
    "CAMEO_INTL_2015 = one_hot_data['CAMEO_INTL_2015'].replace('XX', '0').astype(float)\n",
    "# wealth\n",
    "criteria1 = [CAMEO_INTL_2015.between(11, 15),\n",
    "            CAMEO_INTL_2015.between(21, 25),\n",
    "            CAMEO_INTL_2015.between(31, 35),\n",
    "            CAMEO_INTL_2015.between(41, 45),\n",
    "            CAMEO_INTL_2015.between(51, 55)]\n",
    "\n",
    "values = [1, 2, 3, 4, 5]\n",
    "one_hot_data['CAMEO_INTL_2015_WEALTH'] = np.select(criteria1, values, np.nan)\n",
    "print(one_hot_data['CAMEO_INTL_2015_WEALTH'].head())\n",
    "# life stage\n",
    "life_stage1 = [11,21,31,41,51]\n",
    "life_stage2 = [12,22,32,42,52]\n",
    "life_stage3 = [13,23,33,43,53]\n",
    "life_stage4 = [14,24,34,44,54]\n",
    "life_stage5 = [15,25,35,45,55]\n",
    "\n",
    "criteria2 = [CAMEO_INTL_2015.isin(life_stage1),\n",
    "            CAMEO_INTL_2015.isin(life_stage2),\n",
    "            CAMEO_INTL_2015.isin(life_stage3),\n",
    "            CAMEO_INTL_2015.isin(life_stage4),\n",
    "            CAMEO_INTL_2015.isin(life_stage5)]\n",
    "one_hot_data['CAMEO_INTL_2015_LIFE_STAGE'] = np.select(criteria2, values, np.nan)\n",
    "print(one_hot_data['CAMEO_INTL_2015_LIFE_STAGE'].head())\n",
    "\n",
    "one_hot_data = one_hot_data.drop('CAMEO_INTL_2015', axis=1)\n",
    "\n",
    "print(one_hot_data.shape)\n",
    "\n"
   ]
  },
  {
   "cell_type": "markdown",
   "metadata": {},
   "source": [
    "#### Discussion 1.2.2: Engineer Mixed-Type Features\n",
    "\n",
    "(Double-click this cell and replace this text with your own text, reporting your findings and decisions regarding mixed-value features. Which ones did you keep, which did you drop, and what engineering steps did you perform?)\n",
    "A:\n",
    "\n",
    "for `PRAEGENDE_JUGENDJAHRE`, I divided it into two columns, one by DECADE, and one by MOVEMENT,\n",
    "\n",
    "and for `CAMEO_INTL_2015`, I divided it into two columns, one by WEALTH, and one by LIFE STAGE,\n",
    "\n",
    "at this time, I am only making two columns changes, and will investgating more in the future\n"
   ]
  },
  {
   "cell_type": "markdown",
   "metadata": {},
   "source": [
    "#### Step 1.2.3: Complete Feature Selection\n",
    "\n",
    "In order to finish this step up, you need to make sure that your data frame now only has the columns that you want to keep. To summarize, the dataframe should consist of the following:\n",
    "- All numeric, interval, and ordinal type columns from the original dataset.\n",
    "- Binary categorical features (all numerically-encoded).\n",
    "- Engineered features from other multi-level categorical features and mixed features.\n",
    "\n",
    "Make sure that for any new columns that you have engineered, that you've excluded the original columns from the final dataset. Otherwise, their values will interfere with the analysis later on the project. For example, you should not keep \"PRAEGENDE_JUGENDJAHRE\", since its values won't be useful for the algorithm: only the values derived from it in the engineered features you created should be retained. As a reminder, your data should only be from **the subset with few or no missing values**."
   ]
  },
  {
   "cell_type": "code",
   "execution_count": 327,
   "metadata": {},
   "outputs": [],
   "source": [
    "# If there are other re-engineering tasks you need to perform, make sure you\n",
    "# take care of them here. (Dealing with missing data will come in step 2.1.)\n"
   ]
  },
  {
   "cell_type": "code",
   "execution_count": 328,
   "metadata": {},
   "outputs": [],
   "source": [
    "# Do whatever you need to in order to ensure that the dataframe only contains\n",
    "# the columns that should be passed to the algorithm functions.\n",
    "\n",
    "# we gonna check the data by columnsagain, to make sure our data is correct:\n",
    "\n",
    "#column\n",
    "name_list_10, percentage_list_10 = get_percentage_missing_in_column(one_hot_data, 0)"
   ]
  },
  {
   "cell_type": "code",
   "execution_count": 329,
   "metadata": {},
   "outputs": [
    {
     "data": {
      "text/plain": [
       "<BarContainer object of 37 artists>"
      ]
     },
     "execution_count": 329,
     "metadata": {},
     "output_type": "execute_result"
    },
    {
     "data": {
      "image/png": "[encoded data removed]",
      "text/plain": [
       "<Figure size 2160x1440 with 1 Axes>"
      ]
     },
     "metadata": {
      "needs_background": "light"
     },
     "output_type": "display_data"
    }
   ],
   "source": [
    "# column, plot the figure:\n",
    "\n",
    "plt.figure(figsize=(30,20))\n",
    "plt.rcParams.update({'font.size': 22})\n",
    "plt.barh(name_list_10, width = percentage_list_10)"
   ]
  },
  {
   "cell_type": "markdown",
   "metadata": {},
   "source": [
    "As we can see, that we have removed those that have missing values large than 20%"
   ]
  },
  {
   "cell_type": "code",
   "execution_count": 124,
   "metadata": {},
   "outputs": [
    {
     "name": "stdout",
     "output_type": "stream",
     "text": [
      "0.0 %\n",
      "10.0 %\n",
      "20.0 %\n",
      "30.0 %\n",
      "40.0 %\n",
      "50.0 %\n",
      "60.0 %\n",
      "70.0 %\n",
      "80.0 %\n",
      "90.0 %\n",
      "100.0 %\n",
      "Done!\n",
      "percentage of rows with a lot of missing data: 0.00 %\n"
     ]
    }
   ],
   "source": [
    "subset_below_threshold_indexes, subset_above_threshold_indexes = get_misssing_info_in_row(one_hot_data, 30)\n",
    "print('percentage of rows with a lot of missing data: {0:.2f} %'.format(len(subset_above_threshold_indexes)*100/one_hot_data.shape[0]))\n",
    "\n"
   ]
  },
  {
   "cell_type": "code",
   "execution_count": 330,
   "metadata": {},
   "outputs": [
    {
     "name": "stdout",
     "output_type": "stream",
     "text": [
      "True\n",
      "True\n",
      "True\n",
      "True\n",
      "True\n"
     ]
    }
   ],
   "source": [
    "# check that we have dropped the columns with large_level_variables:\n",
    "\n",
    "for item in large_level_variables:\n",
    "    print(item not in one_hot_data.columns.values)"
   ]
  },
  {
   "cell_type": "code",
   "execution_count": 331,
   "metadata": {},
   "outputs": [
    {
     "name": "stdout",
     "output_type": "stream",
     "text": [
      "True\n",
      "True\n",
      "True\n",
      "True\n",
      "True\n",
      "True\n",
      "True\n",
      "True\n",
      "True\n",
      "True\n",
      "True\n",
      "True\n",
      "True\n",
      "True\n",
      "True\n",
      "True\n"
     ]
    }
   ],
   "source": [
    "# check we have encoded small_level_variables and removed the original columns\n",
    "for item in small_level_variables:\n",
    "    # check we removed the original column\n",
    "    print(item not in one_hot_data.columns.values)\n",
    "    # check we created new columns based on the origional column\n",
    "    print(item + '_' in ''.join(one_hot_data.columns.values))\n"
   ]
  },
  {
   "cell_type": "code",
   "execution_count": 332,
   "metadata": {},
   "outputs": [
    {
     "name": "stdout",
     "output_type": "stream",
     "text": [
      "True\n",
      "True\n",
      "True\n",
      "True\n"
     ]
    }
   ],
   "source": [
    "# check that we have dropped the two mixed type features, and created Engineered features columns based on that \n",
    "engineered_feature = ['PRAEGENDE_JUGENDJAHRE', 'CAMEO_INTL_2015']\n",
    "\n",
    "for item in engineered_feature:\n",
    "    # check we removed the original column\n",
    "    print(item not in one_hot_data.columns.values)\n",
    "    # check we created new columns based on the origional column\n",
    "    print(item + '_' in ''.join(one_hot_data.columns.values))"
   ]
  },
  {
   "cell_type": "code",
   "execution_count": 333,
   "metadata": {},
   "outputs": [
    {
     "data": {
      "text/plain": [
       "(797981, 110)"
      ]
     },
     "execution_count": 333,
     "metadata": {},
     "output_type": "execute_result"
    }
   ],
   "source": [
    "one_hot_data.shape"
   ]
  },
  {
   "cell_type": "markdown",
   "metadata": {},
   "source": [
    "### Step 1.3: Create a Cleaning Function\n",
    "\n",
    "Even though you've finished cleaning up the general population demographics data, it's important to look ahead to the future and realize that you'll need to perform the same cleaning steps on the customer demographics data. In this substep, complete the function below to execute the main feature selection, encoding, and re-engineering steps you performed above. Then, when it comes to looking at the customer data in Step 3, you can just run this function on that DataFrame to get the trimmed dataset in a single step."
   ]
  },
  {
   "cell_type": "code",
   "execution_count": 334,
   "metadata": {},
   "outputs": [],
   "source": [
    "def clean_data(df):\n",
    "    \"\"\"\n",
    "    Perform feature trimming, re-encoding, and engineering for demographics\n",
    "    data\n",
    "    \n",
    "    INPUT: Demographics DataFrame\n",
    "    OUTPUT: Trimmed and cleaned demographics DataFrame\n",
    "    \"\"\"\n",
    "    \n",
    "    # Put in code here to execute all main cleaning steps:\n",
    "    # convert missing value codes into NaNs, ...\n",
    "    print('convert missing value codes into NaNs...')\n",
    "    for index, row in feat_info.iterrows():\n",
    "        column_name = row['attribute']\n",
    "        missing_or_unknow_list = row['missing_or_unknown'][1:-1].split(',')\n",
    "        df[column_name] = df[column_name].replace(missing_or_unknow_list, np.nan)\n",
    "    \n",
    "    print('df shape {}'.format(df.shape))\n",
    "    # remove selected columns and rows, ...\n",
    "    print('drop columns with more than 20% missing values')\n",
    "    name_list_20, percentage_list_20 = get_percentage_missing_in_column(df, 0.2)\n",
    "    df = df.drop(name_list_20, axis = 1)\n",
    "    \n",
    "    print('df shape {}'.format(df.shape))\n",
    "    print('selecting rows that has less than 30% of missing values..')\n",
    "    df, subset_above_threshold_indexes = get_misssing_info_in_row(df, 30)\n",
    "    print('df shape {}'.format(df.shape))\n",
    "    \n",
    "    # select, re-encode, and engineer column values.\n",
    "    # Re-encode categorical variable(s) to be kept in the analysis.\n",
    "    # drop columns:\n",
    "    large_level_variables = []\n",
    "    small_level_variables = []\n",
    "    print('investgating the categorical variables...')\n",
    "    \n",
    "    for index in range(feat_info.shape[0]):\n",
    "        type = feat_info['type'][index]\n",
    "\n",
    "        if type == 'categorical':\n",
    "            attribute = feat_info['attribute'][index]\n",
    "            if attribute in df.columns:\n",
    "                dimensions = df[attribute].nunique()\n",
    "\n",
    "                if dimensions > 7:\n",
    "                    large_level_variables.append(attribute)\n",
    "                else:\n",
    "                    small_level_variables.append(attribute)\n",
    "    print('drop columns with categorical type that has more than 7 different values')\n",
    "    df = df.drop(large_level_variables, axis=1)\n",
    "    print('df shape {}'.format(df.shape))\n",
    "    \n",
    "    print('one-hot encoding...')\n",
    "    for item in small_level_variables:\n",
    "        df = pd.concat([df, pd.get_dummies(df[item], prefix=item)], axis=1)\n",
    "        df = df.drop(item, axis=1)\n",
    "    \n",
    "    # special treatment to OST_WEST_KZ\n",
    "    df['OST_WEST_KZ'] = df['OST_WEST_KZ'].replace(['O','W'], [0,1])\n",
    "\n",
    "    print('df shape {}'.format(df.shape))\n",
    "    \n",
    "    # engineeded:\n",
    "    \n",
    "    # after observe the Data_Dictionary.md, we could get:\n",
    "    print('investgating engineered features')\n",
    "    criteria = [df['PRAEGENDE_JUGENDJAHRE'].between(1, 2),\n",
    "                df['PRAEGENDE_JUGENDJAHRE'].between(3, 4),\n",
    "                df['PRAEGENDE_JUGENDJAHRE'].between(5, 7),\n",
    "                df['PRAEGENDE_JUGENDJAHRE'].between(8, 9),\n",
    "                df['PRAEGENDE_JUGENDJAHRE'].between(10, 13),\n",
    "                df['PRAEGENDE_JUGENDJAHRE'].between(14, 15)]\n",
    "\n",
    "    values = [1, 2, 3, 4, 5, 6] # one hot encode this???\n",
    "\n",
    "    df['PRAEGENDE_JUGENDJAHRE_DECADE'] = np.select(criteria, values, np.nan)\n",
    "    # create new PRAEGENDE_JUGENDJAHRE_MOVEMENT\n",
    "    # 0 for mainstream, 1 for avantgrade\n",
    "    mainstream_labels = [1, 3, 5, 8, 10, 12, 14]\n",
    "    df['PRAEGENDE_JUGENDJAHRE_MOVEMENT'] = df['PRAEGENDE_JUGENDJAHRE'].isin(mainstream_labels).astype(int)\n",
    "    # drop original column\n",
    "    df = df.drop('PRAEGENDE_JUGENDJAHRE', axis=1)\n",
    "    \n",
    "    \n",
    "\n",
    "    CAMEO_INTL_2015 = df['CAMEO_INTL_2015'].replace('XX', '0').astype(float)\n",
    "    # wealth\n",
    "    criteria1 = [CAMEO_INTL_2015.between(11, 15),\n",
    "                CAMEO_INTL_2015.between(21, 25),\n",
    "                CAMEO_INTL_2015.between(31, 35),\n",
    "                CAMEO_INTL_2015.between(41, 45),\n",
    "                CAMEO_INTL_2015.between(51, 55)]\n",
    "\n",
    "    values1 = [1, 2, 3, 4, 5]\n",
    "    df['CAMEO_INTL_2015_WEALTH'] = np.select(criteria1, values1, np.nan)\n",
    "    # life stage\n",
    "    life_stage1 = [11,21,31,41,51]\n",
    "    life_stage2 = [12,22,32,42,52]\n",
    "    life_stage3 = [13,23,33,43,53]\n",
    "    life_stage4 = [14,24,34,44,54]\n",
    "    life_stage5 = [15,25,35,45,55]\n",
    "\n",
    "    criteria2 = [CAMEO_INTL_2015.isin(life_stage1),\n",
    "                CAMEO_INTL_2015.isin(life_stage2),\n",
    "                CAMEO_INTL_2015.isin(life_stage3),\n",
    "                CAMEO_INTL_2015.isin(life_stage4),\n",
    "                CAMEO_INTL_2015.isin(life_stage5)]\n",
    "    df['CAMEO_INTL_2015_LIFE_STAGE'] = np.select(criteria2, values1, np.nan)\n",
    "\n",
    "    df = df.drop('CAMEO_INTL_2015', axis=1)\n",
    "    print('df shape {}'.format(df.shape))\n",
    "    print('Done!')\n",
    "    # Return the cleaned dataframe.\n",
    "    return df;\n",
    "    "
   ]
  },
  {
   "cell_type": "markdown",
   "metadata": {},
   "source": [
    "## Step 2: Feature Transformation\n",
    "\n",
    "### Step 2.1: Apply Feature Scaling\n",
    "\n",
    "Before we apply dimensionality reduction techniques to the data, we need to perform feature scaling so that the principal component vectors are not influenced by the natural differences in scale for features. Starting from this part of the project, you'll want to keep an eye on the [API reference page for sklearn](http://scikit-learn.org/stable/modules/classes.html) to help you navigate to all of the classes and functions that you'll need. In this substep, you'll need to check the following:\n",
    "\n",
    "- sklearn requires that data not have missing values in order for its estimators to work properly. So, before applying the scaler to your data, make sure that you've cleaned the DataFrame of the remaining missing values. This can be as simple as just removing all data points with missing data, or applying an [Imputer](http://scikit-learn.org/stable/modules/generated/sklearn.preprocessing.Imputer.html) to replace all missing values. You might also try a more complicated procedure where you temporarily remove missing values in order to compute the scaling parameters before re-introducing those missing values and applying imputation. Think about how much missing data you have and what possible effects each approach might have on your analysis, and justify your decision in the discussion section below.\n",
    "- For the actual scaling function, a [StandardScaler](http://scikit-learn.org/stable/modules/generated/sklearn.preprocessing.StandardScaler.html) instance is suggested, scaling each feature to mean 0 and standard deviation 1.\n",
    "- For these classes, you can make use of the `.fit_transform()` method to both fit a procedure to the data as well as apply the transformation to the data at the same time. Don't forget to keep the fit sklearn objects handy, since you'll be applying them to the customer demographics data towards the end of the project."
   ]
  },
  {
   "cell_type": "code",
   "execution_count": 335,
   "metadata": {},
   "outputs": [
    {
     "name": "stdout",
     "output_type": "stream",
     "text": [
      "(797981, 110)\n",
      "uint8\n",
      "int64\n",
      "float64\n",
      "(797981, 110)\n"
     ]
    }
   ],
   "source": [
    "# If you've not yet cleaned the dataset of all NaN values, then investigate and\n",
    "# do that now.\n",
    "def get_none_object_list(df):\n",
    "    g = df.columns.to_series().groupby(df.dtypes).groups\n",
    "\n",
    "    # get none object columns\n",
    "    list1 = []\n",
    "    for k, v in g.items():\n",
    "        print(k.name)\n",
    "        if k.name != 'object':\n",
    "            list1 = list1 + v.tolist()\n",
    "    return list1\n",
    "\n",
    "def replace_missing_values(df):\n",
    "    print(df.shape)\n",
    "\n",
    "    imp = SimpleImputer(missing_values=np.nan, strategy='mean')\n",
    "    \n",
    "    list1 = get_none_object_list(df)\n",
    "\n",
    "    df[list1]  = imp.fit_transform(df[list1])\n",
    "    print(df.shape)\n",
    "    return df\n",
    "\n",
    "one_hot_data = replace_missing_values(one_hot_data)"
   ]
  },
  {
   "cell_type": "code",
   "execution_count": 336,
   "metadata": {},
   "outputs": [
    {
     "data": {
      "text/plain": [
       "[]"
      ]
     },
     "execution_count": 336,
     "metadata": {},
     "output_type": "execute_result"
    }
   ],
   "source": [
    "# test\n",
    "name_list_10, percentage_list_10 = get_percentage_missing_in_column(one_hot_data, 0)\n",
    "\n",
    "# we can see that there is no nan values in columns\n",
    "name_list_10"
   ]
  },
  {
   "cell_type": "code",
   "execution_count": 337,
   "metadata": {},
   "outputs": [
    {
     "name": "stdout",
     "output_type": "stream",
     "text": [
      "float64\n"
     ]
    }
   ],
   "source": [
    "# Apply feature scaling to the general population demographics data.\n",
    "\n",
    "def feature_scale(df):\n",
    "    list1 = get_none_object_list(df)\n",
    "    df[list1] = p.StandardScaler().fit_transform(df[list1]) \n",
    "    return df\n",
    "\n",
    "one_hot_data = feature_scale(one_hot_data)"
   ]
  },
  {
   "cell_type": "code",
   "execution_count": 338,
   "metadata": {},
   "outputs": [
    {
     "data": {
      "text/html": [
       "<div>\n",
       "<style scoped>\n",
       "    .dataframe tbody tr th:only-of-type {\n",
       "        vertical-align: middle;\n",
       "    }\n",
       "\n",
       "    .dataframe tbody tr th {\n",
       "        vertical-align: top;\n",
       "    }\n",
       "\n",
       "    .dataframe thead th {\n",
       "        text-align: right;\n",
       "    }\n",
       "</style>\n",
       "<table border=\"1\" class=\"dataframe\">\n",
       "  <thead>\n",
       "    <tr style=\"text-align: right;\">\n",
       "      <th></th>\n",
       "      <th>ALTERSKATEGORIE_GROB</th>\n",
       "      <th>ANREDE_KZ</th>\n",
       "      <th>FINANZ_MINIMALIST</th>\n",
       "      <th>FINANZ_SPARER</th>\n",
       "      <th>FINANZ_VORSORGER</th>\n",
       "      <th>FINANZ_ANLEGER</th>\n",
       "      <th>FINANZ_UNAUFFAELLIGER</th>\n",
       "      <th>FINANZ_HAUSBAUER</th>\n",
       "      <th>GREEN_AVANTGARDE</th>\n",
       "      <th>HEALTH_TYP</th>\n",
       "      <th>...</th>\n",
       "      <th>GEBAEUDETYP_2.0</th>\n",
       "      <th>GEBAEUDETYP_3.0</th>\n",
       "      <th>GEBAEUDETYP_4.0</th>\n",
       "      <th>GEBAEUDETYP_5.0</th>\n",
       "      <th>GEBAEUDETYP_6.0</th>\n",
       "      <th>GEBAEUDETYP_8.0</th>\n",
       "      <th>PRAEGENDE_JUGENDJAHRE_DECADE</th>\n",
       "      <th>PRAEGENDE_JUGENDJAHRE_MOVEMENT</th>\n",
       "      <th>CAMEO_INTL_2015_WEALTH</th>\n",
       "      <th>CAMEO_INTL_2015_LIFE_STAGE</th>\n",
       "    </tr>\n",
       "  </thead>\n",
       "  <tbody>\n",
       "    <tr>\n",
       "      <th>1</th>\n",
       "      <td>-1.766017</td>\n",
       "      <td>0.957942</td>\n",
       "      <td>-1.494612</td>\n",
       "      <td>1.537983</td>\n",
       "      <td>-1.040686</td>\n",
       "      <td>1.466053</td>\n",
       "      <td>0.958791</td>\n",
       "      <td>1.339250</td>\n",
       "      <td>-0.530436</td>\n",
       "      <td>1.085897</td>\n",
       "      <td>...</td>\n",
       "      <td>-0.0787</td>\n",
       "      <td>-0.537083</td>\n",
       "      <td>-0.033584</td>\n",
       "      <td>-0.001119</td>\n",
       "      <td>-0.02802</td>\n",
       "      <td>2.057585</td>\n",
       "      <td>1.165655</td>\n",
       "      <td>0.585899</td>\n",
       "      <td>1.191260</td>\n",
       "      <td>-1.266372</td>\n",
       "    </tr>\n",
       "    <tr>\n",
       "      <th>2</th>\n",
       "      <td>0.201260</td>\n",
       "      <td>0.957942</td>\n",
       "      <td>-1.494612</td>\n",
       "      <td>0.864615</td>\n",
       "      <td>-1.766961</td>\n",
       "      <td>-0.570962</td>\n",
       "      <td>0.244236</td>\n",
       "      <td>1.339250</td>\n",
       "      <td>1.885243</td>\n",
       "      <td>1.085897</td>\n",
       "      <td>...</td>\n",
       "      <td>-0.0787</td>\n",
       "      <td>-0.537083</td>\n",
       "      <td>-0.033584</td>\n",
       "      <td>-0.001119</td>\n",
       "      <td>-0.02802</td>\n",
       "      <td>-0.486007</td>\n",
       "      <td>1.165655</td>\n",
       "      <td>-1.706778</td>\n",
       "      <td>-0.865143</td>\n",
       "      <td>0.761955</td>\n",
       "    </tr>\n",
       "    <tr>\n",
       "      <th>3</th>\n",
       "      <td>1.184898</td>\n",
       "      <td>0.957942</td>\n",
       "      <td>0.683135</td>\n",
       "      <td>-0.482122</td>\n",
       "      <td>1.138139</td>\n",
       "      <td>-0.570962</td>\n",
       "      <td>-1.184875</td>\n",
       "      <td>-0.791295</td>\n",
       "      <td>-0.530436</td>\n",
       "      <td>-0.269842</td>\n",
       "      <td>...</td>\n",
       "      <td>-0.0787</td>\n",
       "      <td>-0.537083</td>\n",
       "      <td>-0.033584</td>\n",
       "      <td>-0.001119</td>\n",
       "      <td>-0.02802</td>\n",
       "      <td>-0.486007</td>\n",
       "      <td>-0.232000</td>\n",
       "      <td>0.585899</td>\n",
       "      <td>-1.550611</td>\n",
       "      <td>-0.590263</td>\n",
       "    </tr>\n",
       "    <tr>\n",
       "      <th>4</th>\n",
       "      <td>0.201260</td>\n",
       "      <td>-1.043905</td>\n",
       "      <td>0.683135</td>\n",
       "      <td>0.191246</td>\n",
       "      <td>0.411864</td>\n",
       "      <td>-1.249968</td>\n",
       "      <td>0.244236</td>\n",
       "      <td>-0.791295</td>\n",
       "      <td>-0.530436</td>\n",
       "      <td>1.085897</td>\n",
       "      <td>...</td>\n",
       "      <td>-0.0787</td>\n",
       "      <td>-0.537083</td>\n",
       "      <td>-0.033584</td>\n",
       "      <td>-0.001119</td>\n",
       "      <td>-0.02802</td>\n",
       "      <td>-0.486007</td>\n",
       "      <td>-0.232000</td>\n",
       "      <td>0.585899</td>\n",
       "      <td>0.505792</td>\n",
       "      <td>0.085846</td>\n",
       "    </tr>\n",
       "    <tr>\n",
       "      <th>5</th>\n",
       "      <td>-1.766017</td>\n",
       "      <td>0.957942</td>\n",
       "      <td>-0.042781</td>\n",
       "      <td>-1.155491</td>\n",
       "      <td>1.138139</td>\n",
       "      <td>-0.570962</td>\n",
       "      <td>-0.470319</td>\n",
       "      <td>1.339250</td>\n",
       "      <td>-0.530436</td>\n",
       "      <td>1.085897</td>\n",
       "      <td>...</td>\n",
       "      <td>-0.0787</td>\n",
       "      <td>-0.537083</td>\n",
       "      <td>-0.033584</td>\n",
       "      <td>-0.001119</td>\n",
       "      <td>-0.02802</td>\n",
       "      <td>-0.486007</td>\n",
       "      <td>-1.629656</td>\n",
       "      <td>0.585899</td>\n",
       "      <td>1.191260</td>\n",
       "      <td>0.761955</td>\n",
       "    </tr>\n",
       "  </tbody>\n",
       "</table>\n",
       "<p>5 rows × 110 columns</p>\n",
       "</div>"
      ],
      "text/plain": [
       "   ALTERSKATEGORIE_GROB  ANREDE_KZ  FINANZ_MINIMALIST  FINANZ_SPARER  \\\n",
       "1             -1.766017   0.957942          -1.494612       1.537983   \n",
       "2              0.201260   0.957942          -1.494612       0.864615   \n",
       "3              1.184898   0.957942           0.683135      -0.482122   \n",
       "4              0.201260  -1.043905           0.683135       0.191246   \n",
       "5             -1.766017   0.957942          -0.042781      -1.155491   \n",
       "\n",
       "   FINANZ_VORSORGER  FINANZ_ANLEGER  FINANZ_UNAUFFAELLIGER  FINANZ_HAUSBAUER  \\\n",
       "1         -1.040686        1.466053               0.958791          1.339250   \n",
       "2         -1.766961       -0.570962               0.244236          1.339250   \n",
       "3          1.138139       -0.570962              -1.184875         -0.791295   \n",
       "4          0.411864       -1.249968               0.244236         -0.791295   \n",
       "5          1.138139       -0.570962              -0.470319          1.339250   \n",
       "\n",
       "   GREEN_AVANTGARDE  HEALTH_TYP             ...              GEBAEUDETYP_2.0  \\\n",
       "1         -0.530436    1.085897             ...                      -0.0787   \n",
       "2          1.885243    1.085897             ...                      -0.0787   \n",
       "3         -0.530436   -0.269842             ...                      -0.0787   \n",
       "4         -0.530436    1.085897             ...                      -0.0787   \n",
       "5         -0.530436    1.085897             ...                      -0.0787   \n",
       "\n",
       "   GEBAEUDETYP_3.0  GEBAEUDETYP_4.0  GEBAEUDETYP_5.0  GEBAEUDETYP_6.0  \\\n",
       "1        -0.537083        -0.033584        -0.001119         -0.02802   \n",
       "2        -0.537083        -0.033584        -0.001119         -0.02802   \n",
       "3        -0.537083        -0.033584        -0.001119         -0.02802   \n",
       "4        -0.537083        -0.033584        -0.001119         -0.02802   \n",
       "5        -0.537083        -0.033584        -0.001119         -0.02802   \n",
       "\n",
       "   GEBAEUDETYP_8.0  PRAEGENDE_JUGENDJAHRE_DECADE  \\\n",
       "1         2.057585                      1.165655   \n",
       "2        -0.486007                      1.165655   \n",
       "3        -0.486007                     -0.232000   \n",
       "4        -0.486007                     -0.232000   \n",
       "5        -0.486007                     -1.629656   \n",
       "\n",
       "   PRAEGENDE_JUGENDJAHRE_MOVEMENT  CAMEO_INTL_2015_WEALTH  \\\n",
       "1                        0.585899                1.191260   \n",
       "2                       -1.706778               -0.865143   \n",
       "3                        0.585899               -1.550611   \n",
       "4                        0.585899                0.505792   \n",
       "5                        0.585899                1.191260   \n",
       "\n",
       "   CAMEO_INTL_2015_LIFE_STAGE  \n",
       "1                   -1.266372  \n",
       "2                    0.761955  \n",
       "3                   -0.590263  \n",
       "4                    0.085846  \n",
       "5                    0.761955  \n",
       "\n",
       "[5 rows x 110 columns]"
      ]
     },
     "execution_count": 338,
     "metadata": {},
     "output_type": "execute_result"
    }
   ],
   "source": [
    "one_hot_data.head()"
   ]
  },
  {
   "cell_type": "markdown",
   "metadata": {},
   "source": [
    "### Discussion 2.1: Apply Feature Scaling\n",
    "\n",
    "(Double-click this cell and replace this text with your own text, reporting your decisions regarding feature scaling.)\n",
    "A:\n",
    "\n",
    "Applied StandardScaler feature scaling from sklearn to only the none-object type."
   ]
  },
  {
   "cell_type": "markdown",
   "metadata": {},
   "source": [
    "### Step 2.2: Perform Dimensionality Reduction\n",
    "\n",
    "On your scaled data, you are now ready to apply dimensionality reduction techniques.\n",
    "\n",
    "- Use sklearn's [PCA](http://scikit-learn.org/stable/modules/generated/sklearn.decomposition.PCA.html) class to apply principal component analysis on the data, thus finding the vectors of maximal variance in the data. To start, you should not set any parameters (so all components are computed) or set a number of components that is at least half the number of features (so there's enough features to see the general trend in variability).\n",
    "- Check out the ratio of variance explained by each principal component as well as the cumulative variance explained. Try plotting the cumulative or sequential values using matplotlib's [`plot()`](https://matplotlib.org/api/_as_gen/matplotlib.pyplot.plot.html) function. Based on what you find, select a value for the number of transformed features you'll retain for the clustering part of the project.\n",
    "- Once you've made a choice for the number of components to keep, make sure you re-fit a PCA instance to perform the decided-on transformation."
   ]
  },
  {
   "cell_type": "code",
   "execution_count": 342,
   "metadata": {},
   "outputs": [],
   "source": [
    "def scree_plot(pca):\n",
    "    '''\n",
    "    Creates a scree plot associated with the principal components\n",
    "\n",
    "    INPUT: pca - the result of instantian of PCA in scikit learn\n",
    "\n",
    "    OUTPUT: None\n",
    "    '''\n",
    "    num_components=len(pca.explained_variance_ratio_)\n",
    "    ind = np.arange(num_components)\n",
    "    vals = pca.explained_variance_ratio_\n",
    "\n",
    "    plt.figure(figsize=(10, 6))\n",
    "    ax = plt.subplot(111)\n",
    "    cumvals = np.cumsum(vals)\n",
    "    ax.bar(ind, vals)\n",
    "    ax.plot(ind, cumvals)\n",
    "    for i in range(num_components):\n",
    "        ax.annotate(r\"%s%%\" % ((str(vals[i]*100)[:4])), (ind[i]+0.2, vals[i]), va=\"bottom\", ha=\"center\", fontsize=12)\n",
    "\n",
    "    ax.xaxis.set_tick_params(width=0)\n",
    "    ax.yaxis.set_tick_params(width=2, length=12)\n",
    "\n",
    "    ax.set_xlabel(\"Principal Component\")\n",
    "    ax.set_ylabel(\"Variance Explained (%)\")\n",
    "    plt.title('Explained Variance Per Principal Component')\n",
    "\n"
   ]
  },
  {
   "cell_type": "code",
   "execution_count": 344,
   "metadata": {},
   "outputs": [],
   "source": [
    "# Apply PCA to the data.\n",
    "\n",
    "pca = PCA()\n",
    "one_hot_data_pca = pca.fit_transform(one_hot_data)"
   ]
  },
  {
   "cell_type": "code",
   "execution_count": 345,
   "metadata": {},
   "outputs": [
    {
     "data": {
      "image/png": "[encoded data removed]",
      "text/plain": [
       "<Figure size 720x432 with 1 Axes>"
      ]
     },
     "metadata": {
      "needs_background": "light"
     },
     "output_type": "display_data"
    }
   ],
   "source": [
    "# Investigate the variance accounted for by each principal component.\n",
    "\n",
    "scree_plot(pca)"
   ]
  },
  {
   "cell_type": "code",
   "execution_count": 346,
   "metadata": {},
   "outputs": [],
   "source": [
    "# Re-apply PCA to the data while selecting for number of components to retain.\n",
    "\n",
    "pca = PCA(80)\n",
    "one_hot_data_pca = pca.fit_transform(one_hot_data)"
   ]
  },
  {
   "cell_type": "markdown",
   "metadata": {},
   "source": [
    "### Discussion 2.2: Perform Dimensionality Reduction\n",
    "\n",
    "(Double-click this cell and replace this text with your own text, reporting your findings and decisions regarding dimensionality reduction. How many principal components / transformed features are you retaining for the next step of the analysis?)\n",
    "\n",
    "As we can see from the above figure, with 80 components, it will explain about 95% explained_variance_ratio_, so we gonan use 80"
   ]
  },
  {
   "cell_type": "markdown",
   "metadata": {},
   "source": [
    "### Step 2.3: Interpret Principal Components\n",
    "\n",
    "Now that we have our transformed principal components, it's a nice idea to check out the weight of each variable on the first few components to see if they can be interpreted in some fashion.\n",
    "\n",
    "As a reminder, each principal component is a unit vector that points in the direction of highest variance (after accounting for the variance captured by earlier principal components). The further a weight is from zero, the more the principal component is in the direction of the corresponding feature. If two features have large weights of the same sign (both positive or both negative), then increases in one tend expect to be associated with increases in the other. To contrast, features with different signs can be expected to show a negative correlation: increases in one variable should result in a decrease in the other.\n",
    "\n",
    "- To investigate the features, you should map each weight to their corresponding feature name, then sort the features according to weight. The most interesting features for each principal component, then, will be those at the beginning and end of the sorted list. Use the data dictionary document to help you understand these most prominent features, their relationships, and what a positive or negative value on the principal component might indicate.\n",
    "- You should investigate and interpret feature associations from the first three principal components in this substep. To help facilitate this, you should write a function that you can call at any time to print the sorted list of feature weights, for the *i*-th principal component. This might come in handy in the next step of the project, when you interpret the tendencies of the discovered clusters."
   ]
  },
  {
   "cell_type": "code",
   "execution_count": null,
   "metadata": {},
   "outputs": [],
   "source": [
    "# Map weights for the first principal component to corresponding feature names\n",
    "# and then print the linked values, sorted by weight.\n",
    "# HINT: Try defining a function here or in a new cell that you can reuse in the\n",
    "# other cells.\n",
    "\n"
   ]
  },
  {
   "cell_type": "code",
   "execution_count": null,
   "metadata": {},
   "outputs": [],
   "source": [
    "# Map weights for the second principal component to corresponding feature names\n",
    "# and then print the linked values, sorted by weight.\n",
    "\n"
   ]
  },
  {
   "cell_type": "code",
   "execution_count": null,
   "metadata": {},
   "outputs": [],
   "source": [
    "# Map weights for the third principal component to corresponding feature names\n",
    "# and then print the linked values, sorted by weight.\n",
    "\n"
   ]
  },
  {
   "cell_type": "markdown",
   "metadata": {},
   "source": [
    "### Discussion 2.3: Interpret Principal Components\n",
    "\n",
    "(Double-click this cell and replace this text with your own text, reporting your observations from detailed investigation of the first few principal components generated. Can we interpret positive and negative values from them in a meaningful way?)"
   ]
  },
  {
   "cell_type": "markdown",
   "metadata": {},
   "source": [
    "## Step 3: Clustering\n",
    "\n",
    "### Step 3.1: Apply Clustering to General Population\n",
    "\n",
    "You've assessed and cleaned the demographics data, then scaled and transformed them. Now, it's time to see how the data clusters in the principal components space. In this substep, you will apply k-means clustering to the dataset and use the average within-cluster distances from each point to their assigned cluster's centroid to decide on a number of clusters to keep.\n",
    "\n",
    "- Use sklearn's [KMeans](http://scikit-learn.org/stable/modules/generated/sklearn.cluster.KMeans.html#sklearn.cluster.KMeans) class to perform k-means clustering on the PCA-transformed data.\n",
    "- Then, compute the average difference from each point to its assigned cluster's center. **Hint**: The KMeans object's `.score()` method might be useful here, but note that in sklearn, scores tend to be defined so that larger is better. Try applying it to a small, toy dataset, or use an internet search to help your understanding.\n",
    "- Perform the above two steps for a number of different cluster counts. You can then see how the average distance decreases with an increasing number of clusters. However, each additional cluster provides a smaller net benefit. Use this fact to select a final number of clusters in which to group the data. **Warning**: because of the large size of the dataset, it can take a long time for the algorithm to resolve. The more clusters to fit, the longer the algorithm will take. You should test for cluster counts through at least 10 clusters to get the full picture, but you shouldn't need to test for a number of clusters above about 30.\n",
    "- Once you've selected a final number of clusters to use, re-fit a KMeans instance to perform the clustering operation. Make sure that you also obtain the cluster assignments for the general demographics data, since you'll be using them in the final Step 3.3."
   ]
  },
  {
   "cell_type": "code",
   "execution_count": null,
   "metadata": {},
   "outputs": [],
   "source": [
    "# Over a number of different cluster counts...\n",
    "\n",
    "\n",
    "    # run k-means clustering on the data and...\n",
    "    \n",
    "    \n",
    "    # compute the average within-cluster distances.\n",
    "    \n",
    "    "
   ]
  },
  {
   "cell_type": "code",
   "execution_count": null,
   "metadata": {},
   "outputs": [],
   "source": [
    "# Investigate the change in within-cluster distance across number of clusters.\n",
    "# HINT: Use matplotlib's plot function to visualize this relationship.\n",
    "\n"
   ]
  },
  {
   "cell_type": "code",
   "execution_count": null,
   "metadata": {},
   "outputs": [],
   "source": [
    "# Re-fit the k-means model with the selected number of clusters and obtain\n",
    "# cluster predictions for the general population demographics data.\n",
    "\n"
   ]
  },
  {
   "cell_type": "markdown",
   "metadata": {},
   "source": [
    "### Discussion 3.1: Apply Clustering to General Population\n",
    "\n",
    "(Double-click this cell and replace this text with your own text, reporting your findings and decisions regarding clustering. Into how many clusters have you decided to segment the population?)"
   ]
  },
  {
   "cell_type": "markdown",
   "metadata": {},
   "source": [
    "### Step 3.2: Apply All Steps to the Customer Data\n",
    "\n",
    "Now that you have clusters and cluster centers for the general population, it's time to see how the customer data maps on to those clusters. Take care to not confuse this for re-fitting all of the models to the customer data. Instead, you're going to use the fits from the general population to clean, transform, and cluster the customer data. In the last step of the project, you will interpret how the general population fits apply to the customer data.\n",
    "\n",
    "- Don't forget when loading in the customers data, that it is semicolon (`;`) delimited.\n",
    "- Apply the same feature wrangling, selection, and engineering steps to the customer demographics using the `clean_data()` function you created earlier. (You can assume that the customer demographics data has similar meaning behind missing data patterns as the general demographics data.)\n",
    "- Use the sklearn objects from the general demographics data, and apply their transformations to the customers data. That is, you should not be using a `.fit()` or `.fit_transform()` method to re-fit the old objects, nor should you be creating new sklearn objects! Carry the data through the feature scaling, PCA, and clustering steps, obtaining cluster assignments for all of the data in the customer demographics data."
   ]
  },
  {
   "cell_type": "code",
   "execution_count": null,
   "metadata": {},
   "outputs": [],
   "source": [
    "# Load in the customer demographics data.\n",
    "customers = "
   ]
  },
  {
   "cell_type": "code",
   "execution_count": null,
   "metadata": {},
   "outputs": [],
   "source": [
    "# Apply preprocessing, feature transformation, and clustering from the general\n",
    "# demographics onto the customer data, obtaining cluster predictions for the\n",
    "# customer demographics data.\n",
    "\n"
   ]
  },
  {
   "cell_type": "markdown",
   "metadata": {},
   "source": [
    "### Step 3.3: Compare Customer Data to Demographics Data\n",
    "\n",
    "At this point, you have clustered data based on demographics of the general population of Germany, and seen how the customer data for a mail-order sales company maps onto those demographic clusters. In this final substep, you will compare the two cluster distributions to see where the strongest customer base for the company is.\n",
    "\n",
    "Consider the proportion of persons in each cluster for the general population, and the proportions for the customers. If we think the company's customer base to be universal, then the cluster assignment proportions should be fairly similar between the two. If there are only particular segments of the population that are interested in the company's products, then we should see a mismatch from one to the other. If there is a higher proportion of persons in a cluster for the customer data compared to the general population (e.g. 5% of persons are assigned to a cluster for the general population, but 15% of the customer data is closest to that cluster's centroid) then that suggests the people in that cluster to be a target audience for the company. On the other hand, the proportion of the data in a cluster being larger in the general population than the customer data (e.g. only 2% of customers closest to a population centroid that captures 6% of the data) suggests that group of persons to be outside of the target demographics.\n",
    "\n",
    "Take a look at the following points in this step:\n",
    "\n",
    "- Compute the proportion of data points in each cluster for the general population and the customer data. Visualizations will be useful here: both for the individual dataset proportions, but also to visualize the ratios in cluster representation between groups. Seaborn's [`countplot()`](https://seaborn.pydata.org/generated/seaborn.countplot.html) or [`barplot()`](https://seaborn.pydata.org/generated/seaborn.barplot.html) function could be handy.\n",
    "  - Recall the analysis you performed in step 1.1.3 of the project, where you separated out certain data points from the dataset if they had more than a specified threshold of missing values. If you found that this group was qualitatively different from the main bulk of the data, you should treat this as an additional data cluster in this analysis. Make sure that you account for the number of data points in this subset, for both the general population and customer datasets, when making your computations!\n",
    "- Which cluster or clusters are overrepresented in the customer dataset compared to the general population? Select at least one such cluster and infer what kind of people might be represented by that cluster. Use the principal component interpretations from step 2.3 or look at additional components to help you make this inference. Alternatively, you can use the `.inverse_transform()` method of the PCA and StandardScaler objects to transform centroids back to the original data space and interpret the retrieved values directly.\n",
    "- Perform a similar investigation for the underrepresented clusters. Which cluster or clusters are underrepresented in the customer dataset compared to the general population, and what kinds of people are typified by these clusters?"
   ]
  },
  {
   "cell_type": "code",
   "execution_count": null,
   "metadata": {},
   "outputs": [],
   "source": [
    "# Compare the proportion of data in each cluster for the customer data to the\n",
    "# proportion of data in each cluster for the general population.\n",
    "\n"
   ]
  },
  {
   "cell_type": "code",
   "execution_count": null,
   "metadata": {},
   "outputs": [],
   "source": [
    "# What kinds of people are part of a cluster that is overrepresented in the\n",
    "# customer data compared to the general population?\n",
    "\n"
   ]
  },
  {
   "cell_type": "code",
   "execution_count": null,
   "metadata": {},
   "outputs": [],
   "source": [
    "# What kinds of people are part of a cluster that is underrepresented in the\n",
    "# customer data compared to the general population?\n",
    "\n"
   ]
  },
  {
   "cell_type": "markdown",
   "metadata": {},
   "source": [
    "### Discussion 3.3: Compare Customer Data to Demographics Data\n",
    "\n",
    "(Double-click this cell and replace this text with your own text, reporting findings and conclusions from the clustering analysis. Can we describe segments of the population that are relatively popular with the mail-order company, or relatively unpopular with the company?)"
   ]
  },
  {
   "cell_type": "markdown",
   "metadata": {},
   "source": [
    "> Congratulations on making it this far in the project! Before you finish, make sure to check through the entire notebook from top to bottom to make sure that your analysis follows a logical flow and all of your findings are documented in **Discussion** cells. Once you've checked over all of your work, you should export the notebook as an HTML document to submit for evaluation. You can do this from the menu, navigating to **File -> Download as -> HTML (.html)**. You will submit both that document and this notebook for your project submission."
   ]
  },
  {
   "cell_type": "code",
   "execution_count": null,
   "metadata": {},
   "outputs": [],
   "source": []
  }
 ],
 "metadata": {
  "kernelspec": {
   "display_name": "tensor",
   "language": "python",
   "name": "tensor"
  },
  "language_info": {
   "codemirror_mode": {
    "name": "ipython",
    "version": 3
   },
   "file_extension": ".py",
   "mimetype": "text/x-python",
   "name": "python",
   "nbconvert_exporter": "python",
   "pygments_lexer": "ipython3",
   "version": "3.6.6"
  }
 },
 "nbformat": 4,
 "nbformat_minor": 2
}
