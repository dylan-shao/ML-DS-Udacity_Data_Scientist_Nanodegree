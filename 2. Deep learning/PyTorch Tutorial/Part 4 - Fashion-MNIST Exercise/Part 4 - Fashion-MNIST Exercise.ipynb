{
 "cells": [
  {
   "cell_type": "markdown",
   "metadata": {},
   "source": [
    "# Classifying Fashion-MNIST\n",
    "\n",
    "Now it's your turn to build and train a neural network. You'll be using the [Fashion-MNIST dataset](https://github.com/zalandoresearch/fashion-mnist), a drop-in replacement for the MNIST dataset. MNIST is actually quite trivial with neural networks where you can easily achieve better than 97% accuracy. Fashion-MNIST is a set of 28x28 greyscale images of clothes. It's more complex than MNIST, so it's a better representation of the actual performance of your network, and a better representation of datasets you'll use in the real world.\n",
    "\n",
    "<img src='../assets/fashion-mnist-sprite.png' width=500px>\n",
    "\n",
    "In this notebook, you'll build your own neural network. For the most part, you could just copy and paste the code from Part 3, but you wouldn't be learning. It's important for you to write the code yourself and get it to work. Feel free to consult the previous notebook though as you work through this.\n",
    "\n",
    "First off, let's load the dataset through torchvision."
   ]
  },
  {
   "cell_type": "code",
   "execution_count": 58,
   "metadata": {},
   "outputs": [],
   "source": [
    "import torch\n",
    "from torchvision import datasets, transforms\n",
    "import helper\n",
    "\n",
    "# Define a transform to normalize the data\n",
    "transform = transforms.Compose([transforms.ToTensor(),\n",
    "                                transforms.Normalize((0.5, 0.5, 0.5), (0.5, 0.5, 0.5))])\n",
    "# Download and load the training data\n",
    "trainset = datasets.FashionMNIST('F_MNIST_data/', download=True, train=True, transform=transform)\n",
    "trainloader = torch.utils.data.DataLoader(trainset, batch_size=64, shuffle=True)\n",
    "\n",
    "# Download and load the test data\n",
    "testset = datasets.FashionMNIST('F_MNIST_data/', download=True, train=False, transform=transform)\n",
    "testloader = torch.utils.data.DataLoader(testset, batch_size=64, shuffle=True)"
   ]
  },
  {
   "cell_type": "markdown",
   "metadata": {},
   "source": [
    "Here we can see one of the images."
   ]
  },
  {
   "cell_type": "code",
   "execution_count": 59,
   "metadata": {},
   "outputs": [
    {
     "data": {
      "image/png": "[encoded data removed]",
      "text/plain": [
       "<Figure size 432x288 with 1 Axes>"
      ]
     },
     "metadata": {
      "image/png": {
       "height": 233,
       "width": 233
      },
      "needs_background": "light"
     },
     "output_type": "display_data"
    }
   ],
   "source": [
    "image, label = next(iter(trainloader))\n",
    "helper.imshow(image[0,:]);"
   ]
  },
  {
   "cell_type": "markdown",
   "metadata": {},
   "source": [
    "With the data loaded, it's time to import the necessary packages."
   ]
  },
  {
   "cell_type": "code",
   "execution_count": 60,
   "metadata": {},
   "outputs": [],
   "source": [
    "%matplotlib inline\n",
    "%config InlineBackend.figure_format = 'retina'\n",
    "\n",
    "import matplotlib.pyplot as plt\n",
    "import numpy as np\n",
    "import time\n",
    "\n",
    "import torch\n",
    "from torch import nn\n",
    "from torch import optim\n",
    "import torch.nn.functional as F\n",
    "from torchvision import datasets, transforms\n",
    "\n",
    "import helper\n",
    "\n",
    "from collections import OrderedDict"
   ]
  },
  {
   "cell_type": "markdown",
   "metadata": {},
   "source": [
    "## Building the network\n",
    "\n",
    "Here you should define your network. As with MNIST, each image is 28x28 which is a total of 784 pixels, and there are 10 classes. You should include at least one hidden layer. We suggest you use ReLU activations for the layers and to return the logits from the forward pass. It's up to you how many layers you add and the size of those layers."
   ]
  },
  {
   "cell_type": "code",
   "execution_count": 113,
   "metadata": {},
   "outputs": [],
   "source": [
    "# TODO: Define your network architecture here\n",
    "input_size = 784\n",
    "hidden_sizes = [256, 64]\n",
    "output_size = 10\n",
    "\n",
    "# Build a feed-forward network\n",
    "model = nn.Sequential(OrderedDict([\n",
    "                      ('fc1', nn.Linear(input_size, hidden_sizes[0])),\n",
    "                      ('relu1', nn.ReLU()),\n",
    "                      ('fc2', nn.Linear(hidden_sizes[0], hidden_sizes[1])),\n",
    "                      ('relu2', nn.ReLU()),\n",
    "                      ('logits', nn.Linear(hidden_sizes[1], output_size))]))\n",
    "\n"
   ]
  },
  {
   "cell_type": "markdown",
   "metadata": {},
   "source": [
    "# Train the network\n",
    "\n",
    "Now you should create your network and train it. First you'll want to define [the criterion](http://pytorch.org/docs/master/nn.html#loss-functions) ( something like `nn.CrossEntropyLoss`) and [the optimizer](http://pytorch.org/docs/master/optim.html) (typically `optim.SGD` or `optim.Adam`).\n",
    "\n",
    "Then write the training code. Remember the training pass is a fairly straightforward process:\n",
    "\n",
    "* Make a forward pass through the network to get the logits \n",
    "* Use the logits to calculate the loss\n",
    "* Perform a backward pass through the network with `loss.backward()` to calculate the gradients\n",
    "* Take a step with the optimizer to update the weights\n",
    "\n",
    "By adjusting the hyperparameters (hidden units, learning rate, etc), you should be able to get the training loss below 0.4."
   ]
  },
  {
   "cell_type": "code",
   "execution_count": 114,
   "metadata": {},
   "outputs": [],
   "source": [
    "# TODO: Create the network, define the criterion and optimizer\n",
    "criterion = nn.CrossEntropyLoss()\n",
    "optimizer = optim.SGD(model.parameters(), lr=0.01)"
   ]
  },
  {
   "cell_type": "code",
   "execution_count": 74,
   "metadata": {},
   "outputs": [
    {
     "name": "stdout",
     "output_type": "stream",
     "text": [
      "tensor([[[[0.6024, 0.0058],\n",
      "          [0.6974, 0.4434]]],\n",
      "\n",
      "\n",
      "        [[[0.9870, 0.4782],\n",
      "          [0.5325, 0.9174]]],\n",
      "\n",
      "\n",
      "        [[[0.4197, 0.0594],\n",
      "          [0.2415, 0.8400]]],\n",
      "\n",
      "\n",
      "        [[[0.1822, 0.0604],\n",
      "          [0.8852, 0.1078]]],\n",
      "\n",
      "\n",
      "        [[[0.0921, 0.4648],\n",
      "          [0.6790, 0.2433]]]])\n",
      "torch.Size([32, 1, 28, 28])\n"
     ]
    }
   ],
   "source": [
    "# test\n",
    "x = torch.rand(5,1,2, 2)\n",
    "print(x)\n",
    "x.resize_(5,4)\n",
    "x\n",
    "\n",
    "# the data has one batch that is size 32 instead of 64!\n",
    "for images, label in iter(trainloader):\n",
    "    if images.size()[0] != 64:\n",
    "        print(images.size())"
   ]
  },
  {
   "cell_type": "code",
   "execution_count": 115,
   "metadata": {},
   "outputs": [
    {
     "name": "stdout",
     "output_type": "stream",
     "text": [
      "Epoch: 1/5...  Loss: 2.2472\n",
      "Epoch: 1/5...  Loss: 2.0848\n",
      "Epoch: 1/5...  Loss: 1.8769\n",
      "Epoch: 1/5...  Loss: 1.6111\n",
      "Epoch: 1/5...  Loss: 1.3922\n",
      "Epoch: 1/5...  Loss: 1.1980\n",
      "Epoch: 1/5...  Loss: 1.1096\n",
      "Epoch: 1/5...  Loss: 1.0097\n",
      "Epoch: 1/5...  Loss: 0.9261\n",
      "Epoch: 1/5...  Loss: 0.8697\n",
      "Epoch: 1/5...  Loss: 0.8125\n",
      "Epoch: 1/5...  Loss: 0.7681\n",
      "Epoch: 1/5...  Loss: 0.7566\n",
      "Epoch: 1/5...  Loss: 0.7111\n",
      "Epoch: 1/5...  Loss: 0.7274\n",
      "Epoch: 1/5...  Loss: 0.6953\n",
      "Epoch: 1/5...  Loss: 0.6771\n",
      "Epoch: 1/5...  Loss: 0.6920\n",
      "Epoch: 1/5...  Loss: 0.6516\n",
      "Epoch: 1/5...  Loss: 0.6200\n",
      "Epoch: 1/5...  Loss: 0.6128\n",
      "Epoch: 1/5...  Loss: 0.6293\n",
      "Epoch: 1/5...  Loss: 0.6214\n",
      "Epoch: 2/5...  Loss: 0.3272\n",
      "Epoch: 2/5...  Loss: 0.6092\n",
      "Epoch: 2/5...  Loss: 0.5904\n",
      "Epoch: 2/5...  Loss: 0.6367\n",
      "Epoch: 2/5...  Loss: 0.5728\n",
      "Epoch: 2/5...  Loss: 0.5927\n",
      "Epoch: 2/5...  Loss: 0.5675\n",
      "Epoch: 2/5...  Loss: 0.5793\n",
      "Epoch: 2/5...  Loss: 0.5447\n",
      "Epoch: 2/5...  Loss: 0.5611\n",
      "Epoch: 2/5...  Loss: 0.5101\n",
      "Epoch: 2/5...  Loss: 0.5503\n",
      "Epoch: 2/5...  Loss: 0.5547\n",
      "Epoch: 2/5...  Loss: 0.5304\n",
      "Epoch: 2/5...  Loss: 0.5343\n",
      "Epoch: 2/5...  Loss: 0.5230\n",
      "Epoch: 2/5...  Loss: 0.5129\n",
      "Epoch: 2/5...  Loss: 0.5075\n",
      "Epoch: 2/5...  Loss: 0.5612\n",
      "Epoch: 2/5...  Loss: 0.5513\n",
      "Epoch: 2/5...  Loss: 0.5353\n",
      "Epoch: 2/5...  Loss: 0.5388\n",
      "Epoch: 2/5...  Loss: 0.5142\n",
      "Epoch: 3/5...  Loss: 0.0568\n",
      "Epoch: 3/5...  Loss: 0.5394\n",
      "Epoch: 3/5...  Loss: 0.4894\n",
      "Epoch: 3/5...  Loss: 0.4927\n",
      "Epoch: 3/5...  Loss: 0.5039\n",
      "Epoch: 3/5...  Loss: 0.4927\n",
      "Epoch: 3/5...  Loss: 0.5140\n",
      "Epoch: 3/5...  Loss: 0.4959\n",
      "Epoch: 3/5...  Loss: 0.5339\n",
      "Epoch: 3/5...  Loss: 0.4947\n",
      "Epoch: 3/5...  Loss: 0.4559\n",
      "Epoch: 3/5...  Loss: 0.4785\n",
      "Epoch: 3/5...  Loss: 0.4910\n",
      "Epoch: 3/5...  Loss: 0.4880\n",
      "Epoch: 3/5...  Loss: 0.4802\n",
      "Epoch: 3/5...  Loss: 0.4768\n",
      "Epoch: 3/5...  Loss: 0.4646\n",
      "Epoch: 3/5...  Loss: 0.4475\n",
      "Epoch: 3/5...  Loss: 0.4483\n",
      "Epoch: 3/5...  Loss: 0.4996\n",
      "Epoch: 3/5...  Loss: 0.4888\n",
      "Epoch: 3/5...  Loss: 0.4502\n",
      "Epoch: 3/5...  Loss: 0.4656\n",
      "Epoch: 3/5...  Loss: 0.4779\n",
      "Epoch: 4/5...  Loss: 0.3042\n",
      "Epoch: 4/5...  Loss: 0.4630\n",
      "Epoch: 4/5...  Loss: 0.4730\n",
      "Epoch: 4/5...  Loss: 0.4598\n",
      "Epoch: 4/5...  Loss: 0.4399\n",
      "Epoch: 4/5...  Loss: 0.4420\n",
      "Epoch: 4/5...  Loss: 0.4637\n",
      "Epoch: 4/5...  Loss: 0.4676\n",
      "Epoch: 4/5...  Loss: 0.4827\n",
      "Epoch: 4/5...  Loss: 0.4627\n",
      "Epoch: 4/5...  Loss: 0.4396\n",
      "Epoch: 4/5...  Loss: 0.4548\n",
      "Epoch: 4/5...  Loss: 0.4277\n",
      "Epoch: 4/5...  Loss: 0.4580\n",
      "Epoch: 4/5...  Loss: 0.4464\n",
      "Epoch: 4/5...  Loss: 0.4136\n",
      "Epoch: 4/5...  Loss: 0.4447\n",
      "Epoch: 4/5...  Loss: 0.4610\n",
      "Epoch: 4/5...  Loss: 0.4330\n",
      "Epoch: 4/5...  Loss: 0.4503\n",
      "Epoch: 4/5...  Loss: 0.4596\n",
      "Epoch: 4/5...  Loss: 0.4345\n",
      "Epoch: 4/5...  Loss: 0.4545\n",
      "Epoch: 5/5...  Loss: 0.0930\n",
      "Epoch: 5/5...  Loss: 0.4197\n",
      "Epoch: 5/5...  Loss: 0.4700\n",
      "Epoch: 5/5...  Loss: 0.4103\n",
      "Epoch: 5/5...  Loss: 0.4543\n",
      "Epoch: 5/5...  Loss: 0.4245\n",
      "Epoch: 5/5...  Loss: 0.4411\n",
      "Epoch: 5/5...  Loss: 0.4387\n",
      "Epoch: 5/5...  Loss: 0.4218\n",
      "Epoch: 5/5...  Loss: 0.4218\n",
      "Epoch: 5/5...  Loss: 0.4194\n",
      "Epoch: 5/5...  Loss: 0.4282\n",
      "Epoch: 5/5...  Loss: 0.4276\n",
      "Epoch: 5/5...  Loss: 0.4185\n",
      "Epoch: 5/5...  Loss: 0.4102\n",
      "Epoch: 5/5...  Loss: 0.4684\n",
      "Epoch: 5/5...  Loss: 0.4037\n",
      "Epoch: 5/5...  Loss: 0.4014\n",
      "Epoch: 5/5...  Loss: 0.4419\n",
      "Epoch: 5/5...  Loss: 0.4320\n",
      "Epoch: 5/5...  Loss: 0.4171\n",
      "Epoch: 5/5...  Loss: 0.4281\n",
      "Epoch: 5/5...  Loss: 0.4039\n",
      "Epoch: 5/5...  Loss: 0.4503\n"
     ]
    }
   ],
   "source": [
    "# TODO: Train the network here\n",
    "epochs = 5\n",
    "print_every = 40\n",
    "steps = 0\n",
    "\n",
    "for e in range(epochs):\n",
    "    running_loss = 0\n",
    "    for images, labels in iter(trainloader):\n",
    "        steps += 1\n",
    "        \n",
    "        d1,d2,d3,d4 = images.size()\n",
    "        images.resize_(d1, 784)\n",
    "        optimizer.zero_grad()\n",
    "        \n",
    "        # Forward and backward passes\n",
    "        output = model.forward(images)\n",
    "#         if output.size()[0] == 64:\n",
    "            \n",
    "        loss = criterion(output, labels)\n",
    "        loss.backward()\n",
    "        optimizer.step()\n",
    "\n",
    "\n",
    "        running_loss += loss.item()\n",
    "\n",
    "        if steps % print_every == 0:\n",
    "            print(\"Epoch: {}/{}... \".format(e+1, epochs),\n",
    "                  \"Loss: {:.4f}\".format(running_loss/print_every))\n",
    "\n",
    "            running_loss = 0\n",
    "        "
   ]
  },
  {
   "cell_type": "code",
   "execution_count": 120,
   "metadata": {},
   "outputs": [
    {
     "data": {
      "image/png": "[encoded data removed]",
      "text/plain": [
       "<Figure size 432x648 with 2 Axes>"
      ]
     },
     "metadata": {
      "image/png": {
       "height": 206,
       "width": 423
      },
      "needs_background": "light"
     },
     "output_type": "display_data"
    }
   ],
   "source": [
    "# Test out your network!\n",
    "\n",
    "dataiter = iter(testloader)\n",
    "images, labels = dataiter.next()\n",
    "img = images[0]\n",
    "# Convert 2D image to 1D vector\n",
    "img = img.resize_(1, 784)\n",
    "\n",
    "# TODO: Calculate the class probabilities (softmax) for img\n",
    "ps = F.softmax(model.forward(img), dim=1)\n",
    "\n",
    "# Plot the image and probabilities\n",
    "helper.view_classify(img.resize_(1, 28, 28), ps, version='Fashion')"
   ]
  },
  {
   "cell_type": "markdown",
   "metadata": {},
   "source": [
    "Now that your network is trained, you'll want to save it to disk so you can load it later instead of training it again. Obviously, it's impractical to train a network every time you need one. In practice, you'll train it once, save the model, then reload it for further training or making predictions. In the next part, I'll show you how to save and load trained models."
   ]
  }
 ],
 "metadata": {
  "kernelspec": {
   "display_name": "tensor",
   "language": "python",
   "name": "tensor"
  },
  "language_info": {
   "codemirror_mode": {
    "name": "ipython",
    "version": 3
   },
   "file_extension": ".py",
   "mimetype": "text/x-python",
   "name": "python",
   "nbconvert_exporter": "python",
   "pygments_lexer": "ipython3",
   "version": "3.6.6"
  }
 },
 "nbformat": 4,
 "nbformat_minor": 2
}
